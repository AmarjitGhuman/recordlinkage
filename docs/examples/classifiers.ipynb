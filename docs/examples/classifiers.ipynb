{
 "cells": [
  {
   "cell_type": "markdown",
   "metadata": {},
   "source": [
    "# Classifying record pairs\n",
    "\n",
    "There are dozens of classification algorithms for record linkage. In this example, several classification examples are showed. For these example, the [Krebs register](http://recordlinkage.readthedocs.org/en/latest/reference.html#recordlinkage.datasets.krebsregister_cmp_data) (German for cancer registry) dataset is used found in the [recordlinkage-datasets package](https://github.com/J535D165/recordlinkage-datasets). Be sure that this package is installed before trying the examples below. The Krebs register dataset contains comaprison vectors for which is known if the records belong to the same entity or not (so if they match or are distinct). This was done with a massive clerical review."
   ]
  },
  {
   "cell_type": "markdown",
   "metadata": {},
   "source": [
    "## Introduction\n",
    "First, import the recordlinkage module and the Krebs register data. "
   ]
  },
  {
   "cell_type": "code",
   "execution_count": 1,
   "metadata": {
    "collapsed": false
   },
   "outputs": [],
   "source": [
    "import recordlinkage\n",
    "from recordlinkage.datasets import krebsregister_cmp_data"
   ]
  },
  {
   "cell_type": "code",
   "execution_count": 2,
   "metadata": {
    "collapsed": false
   },
   "outputs": [
    {
     "data": {
      "text/html": [
       "<div>\n",
       "<table border=\"1\" class=\"dataframe\">\n",
       "  <thead>\n",
       "    <tr style=\"text-align: right;\">\n",
       "      <th></th>\n",
       "      <th></th>\n",
       "      <th>cmp_firstname1</th>\n",
       "      <th>cmp_firstname2</th>\n",
       "      <th>cmp_lastname1</th>\n",
       "      <th>cmp_lastname2</th>\n",
       "      <th>cmp_sex</th>\n",
       "      <th>cmp_birthday</th>\n",
       "      <th>cmp_birthmonth</th>\n",
       "      <th>cmp_birthyear</th>\n",
       "      <th>cmp_zipcode</th>\n",
       "    </tr>\n",
       "    <tr>\n",
       "      <th>id1</th>\n",
       "      <th>id2</th>\n",
       "      <th></th>\n",
       "      <th></th>\n",
       "      <th></th>\n",
       "      <th></th>\n",
       "      <th></th>\n",
       "      <th></th>\n",
       "      <th></th>\n",
       "      <th></th>\n",
       "      <th></th>\n",
       "    </tr>\n",
       "  </thead>\n",
       "  <tbody>\n",
       "    <tr>\n",
       "      <th>49</th>\n",
       "      <th>6439</th>\n",
       "      <td>0.142857</td>\n",
       "      <td>NaN</td>\n",
       "      <td>0.000000</td>\n",
       "      <td>NaN</td>\n",
       "      <td>1</td>\n",
       "      <td>1.0</td>\n",
       "      <td>1.0</td>\n",
       "      <td>1.0</td>\n",
       "      <td>0.0</td>\n",
       "    </tr>\n",
       "    <tr>\n",
       "      <th>79667</th>\n",
       "      <th>83449</th>\n",
       "      <td>1.000000</td>\n",
       "      <td>NaN</td>\n",
       "      <td>0.250000</td>\n",
       "      <td>NaN</td>\n",
       "      <td>1</td>\n",
       "      <td>0.0</td>\n",
       "      <td>0.0</td>\n",
       "      <td>1.0</td>\n",
       "      <td>0.0</td>\n",
       "    </tr>\n",
       "    <tr>\n",
       "      <th>51539</th>\n",
       "      <th>59550</th>\n",
       "      <td>0.166667</td>\n",
       "      <td>NaN</td>\n",
       "      <td>0.100000</td>\n",
       "      <td>NaN</td>\n",
       "      <td>0</td>\n",
       "      <td>1.0</td>\n",
       "      <td>1.0</td>\n",
       "      <td>1.0</td>\n",
       "      <td>0.0</td>\n",
       "    </tr>\n",
       "    <tr>\n",
       "      <th>63018</th>\n",
       "      <th>66603</th>\n",
       "      <td>1.000000</td>\n",
       "      <td>NaN</td>\n",
       "      <td>0.000000</td>\n",
       "      <td>NaN</td>\n",
       "      <td>1</td>\n",
       "      <td>0.0</td>\n",
       "      <td>1.0</td>\n",
       "      <td>0.0</td>\n",
       "      <td>0.0</td>\n",
       "    </tr>\n",
       "    <tr>\n",
       "      <th>56779</th>\n",
       "      <th>79443</th>\n",
       "      <td>1.000000</td>\n",
       "      <td>NaN</td>\n",
       "      <td>0.166667</td>\n",
       "      <td>NaN</td>\n",
       "      <td>1</td>\n",
       "      <td>0.0</td>\n",
       "      <td>0.0</td>\n",
       "      <td>1.0</td>\n",
       "      <td>0.0</td>\n",
       "    </tr>\n",
       "  </tbody>\n",
       "</table>\n",
       "</div>"
      ],
      "text/plain": [
       "             cmp_firstname1  cmp_firstname2  cmp_lastname1  cmp_lastname2  \\\n",
       "id1   id2                                                                   \n",
       "49    6439         0.142857             NaN       0.000000            NaN   \n",
       "79667 83449        1.000000             NaN       0.250000            NaN   \n",
       "51539 59550        0.166667             NaN       0.100000            NaN   \n",
       "63018 66603        1.000000             NaN       0.000000            NaN   \n",
       "56779 79443        1.000000             NaN       0.166667            NaN   \n",
       "\n",
       "             cmp_sex  cmp_birthday  cmp_birthmonth  cmp_birthyear  cmp_zipcode  \n",
       "id1   id2                                                                       \n",
       "49    6439         1           1.0             1.0            1.0          0.0  \n",
       "79667 83449        1           0.0             0.0            1.0          0.0  \n",
       "51539 59550        0           1.0             1.0            1.0          0.0  \n",
       "63018 66603        1           0.0             1.0            0.0          0.0  \n",
       "56779 79443        1           0.0             0.0            1.0          0.0  "
      ]
     },
     "execution_count": 2,
     "metadata": {},
     "output_type": "execute_result"
    }
   ],
   "source": [
    "krebs_data, krebs_match = krebsregister_cmp_data(block=range(1,11))\n",
    "krebs_data.head()"
   ]
  },
  {
   "cell_type": "markdown",
   "metadata": {},
   "source": [
    "The dataset contains 5749132 compared record pairs and has attributes first name, last name, sex, birthday, birthmonth, birthyear and zipcode."
   ]
  },
  {
   "cell_type": "code",
   "execution_count": 3,
   "metadata": {
    "collapsed": false
   },
   "outputs": [
    {
     "data": {
      "text/html": [
       "<div>\n",
       "<table border=\"1\" class=\"dataframe\">\n",
       "  <thead>\n",
       "    <tr style=\"text-align: right;\">\n",
       "      <th></th>\n",
       "      <th>cmp_firstname1</th>\n",
       "      <th>cmp_firstname2</th>\n",
       "      <th>cmp_lastname1</th>\n",
       "      <th>cmp_lastname2</th>\n",
       "      <th>cmp_sex</th>\n",
       "      <th>cmp_birthday</th>\n",
       "      <th>cmp_birthmonth</th>\n",
       "      <th>cmp_birthyear</th>\n",
       "      <th>cmp_zipcode</th>\n",
       "    </tr>\n",
       "  </thead>\n",
       "  <tbody>\n",
       "    <tr>\n",
       "      <th>count</th>\n",
       "      <td>5.748125e+06</td>\n",
       "      <td>103698.000000</td>\n",
       "      <td>5.749132e+06</td>\n",
       "      <td>2464.000000</td>\n",
       "      <td>5.749132e+06</td>\n",
       "      <td>5.748337e+06</td>\n",
       "      <td>5.748337e+06</td>\n",
       "      <td>5.748337e+06</td>\n",
       "      <td>5.736289e+06</td>\n",
       "    </tr>\n",
       "    <tr>\n",
       "      <th>mean</th>\n",
       "      <td>7.129025e-01</td>\n",
       "      <td>0.900018</td>\n",
       "      <td>3.156278e-01</td>\n",
       "      <td>0.318413</td>\n",
       "      <td>9.550014e-01</td>\n",
       "      <td>2.244653e-01</td>\n",
       "      <td>4.888553e-01</td>\n",
       "      <td>2.227486e-01</td>\n",
       "      <td>5.528661e-03</td>\n",
       "    </tr>\n",
       "    <tr>\n",
       "      <th>std</th>\n",
       "      <td>3.887584e-01</td>\n",
       "      <td>0.271318</td>\n",
       "      <td>3.342336e-01</td>\n",
       "      <td>0.368567</td>\n",
       "      <td>2.073011e-01</td>\n",
       "      <td>4.172297e-01</td>\n",
       "      <td>4.998758e-01</td>\n",
       "      <td>4.160910e-01</td>\n",
       "      <td>7.414915e-02</td>\n",
       "    </tr>\n",
       "    <tr>\n",
       "      <th>min</th>\n",
       "      <td>0.000000e+00</td>\n",
       "      <td>0.000000</td>\n",
       "      <td>0.000000e+00</td>\n",
       "      <td>0.000000</td>\n",
       "      <td>0.000000e+00</td>\n",
       "      <td>0.000000e+00</td>\n",
       "      <td>0.000000e+00</td>\n",
       "      <td>0.000000e+00</td>\n",
       "      <td>0.000000e+00</td>\n",
       "    </tr>\n",
       "    <tr>\n",
       "      <th>25%</th>\n",
       "      <td>2.857143e-01</td>\n",
       "      <td>1.000000</td>\n",
       "      <td>1.000000e-01</td>\n",
       "      <td>0.000000</td>\n",
       "      <td>1.000000e+00</td>\n",
       "      <td>0.000000e+00</td>\n",
       "      <td>0.000000e+00</td>\n",
       "      <td>0.000000e+00</td>\n",
       "      <td>0.000000e+00</td>\n",
       "    </tr>\n",
       "    <tr>\n",
       "      <th>50%</th>\n",
       "      <td>1.000000e+00</td>\n",
       "      <td>1.000000</td>\n",
       "      <td>1.818182e-01</td>\n",
       "      <td>0.166667</td>\n",
       "      <td>1.000000e+00</td>\n",
       "      <td>0.000000e+00</td>\n",
       "      <td>0.000000e+00</td>\n",
       "      <td>0.000000e+00</td>\n",
       "      <td>0.000000e+00</td>\n",
       "    </tr>\n",
       "    <tr>\n",
       "      <th>75%</th>\n",
       "      <td>1.000000e+00</td>\n",
       "      <td>1.000000</td>\n",
       "      <td>4.285714e-01</td>\n",
       "      <td>0.375000</td>\n",
       "      <td>1.000000e+00</td>\n",
       "      <td>0.000000e+00</td>\n",
       "      <td>1.000000e+00</td>\n",
       "      <td>0.000000e+00</td>\n",
       "      <td>0.000000e+00</td>\n",
       "    </tr>\n",
       "    <tr>\n",
       "      <th>max</th>\n",
       "      <td>1.000000e+00</td>\n",
       "      <td>1.000000</td>\n",
       "      <td>1.000000e+00</td>\n",
       "      <td>1.000000</td>\n",
       "      <td>1.000000e+00</td>\n",
       "      <td>1.000000e+00</td>\n",
       "      <td>1.000000e+00</td>\n",
       "      <td>1.000000e+00</td>\n",
       "      <td>1.000000e+00</td>\n",
       "    </tr>\n",
       "  </tbody>\n",
       "</table>\n",
       "</div>"
      ],
      "text/plain": [
       "       cmp_firstname1  cmp_firstname2  cmp_lastname1  cmp_lastname2  \\\n",
       "count    5.748125e+06   103698.000000   5.749132e+06    2464.000000   \n",
       "mean     7.129025e-01        0.900018   3.156278e-01       0.318413   \n",
       "std      3.887584e-01        0.271318   3.342336e-01       0.368567   \n",
       "min      0.000000e+00        0.000000   0.000000e+00       0.000000   \n",
       "25%      2.857143e-01        1.000000   1.000000e-01       0.000000   \n",
       "50%      1.000000e+00        1.000000   1.818182e-01       0.166667   \n",
       "75%      1.000000e+00        1.000000   4.285714e-01       0.375000   \n",
       "max      1.000000e+00        1.000000   1.000000e+00       1.000000   \n",
       "\n",
       "            cmp_sex  cmp_birthday  cmp_birthmonth  cmp_birthyear   cmp_zipcode  \n",
       "count  5.749132e+06  5.748337e+06    5.748337e+06   5.748337e+06  5.736289e+06  \n",
       "mean   9.550014e-01  2.244653e-01    4.888553e-01   2.227486e-01  5.528661e-03  \n",
       "std    2.073011e-01  4.172297e-01    4.998758e-01   4.160910e-01  7.414915e-02  \n",
       "min    0.000000e+00  0.000000e+00    0.000000e+00   0.000000e+00  0.000000e+00  \n",
       "25%    1.000000e+00  0.000000e+00    0.000000e+00   0.000000e+00  0.000000e+00  \n",
       "50%    1.000000e+00  0.000000e+00    0.000000e+00   0.000000e+00  0.000000e+00  \n",
       "75%    1.000000e+00  0.000000e+00    1.000000e+00   0.000000e+00  0.000000e+00  \n",
       "max    1.000000e+00  1.000000e+00    1.000000e+00   1.000000e+00  1.000000e+00  "
      ]
     },
     "execution_count": 3,
     "metadata": {},
     "output_type": "execute_result"
    }
   ],
   "source": [
    "krebs_data.describe()"
   ]
  },
  {
   "cell_type": "markdown",
   "metadata": {},
   "source": [
    "The number of links in the data is:"
   ]
  },
  {
   "cell_type": "code",
   "execution_count": 4,
   "metadata": {
    "collapsed": false
   },
   "outputs": [
    {
     "data": {
      "text/plain": [
       "20931"
      ]
     },
     "execution_count": 4,
     "metadata": {},
     "output_type": "execute_result"
    }
   ],
   "source": [
    "len(krebs_match)"
   ]
  },
  {
   "cell_type": "markdown",
   "metadata": {},
   "source": [
    "Most of the classifiers in the ``recordlinkage`` package can not handle missing values in the comparison data. In the krebsregister dataset, two features are nearly always missing (cmp_firstname2 and cmp_lastname2). Also the other features are sometimes missing. To prevent issues with the classification algorithms, a widely used method is to declare missing values as disagreeing comparisons. So, use the power of ``pandas`` to replace the missing values quickly:"
   ]
  },
  {
   "cell_type": "code",
   "execution_count": 5,
   "metadata": {
    "collapsed": true
   },
   "outputs": [],
   "source": [
    "krebs_data.fillna(0, inplace=True)"
   ]
  },
  {
   "cell_type": "markdown",
   "metadata": {},
   "source": [
    "## K-means classifier\n",
    "\n",
    "The K-means clustering algorithm is well-known and widely used in big data analysis. The K-means classfier in the ``recordlinkage`` package is configured in such a way that it can be used for linking records. For more info about the K-means clustering see [wikipedia](https://en.wikipedia.org/wiki/K-means_clustering). "
   ]
  },
  {
   "cell_type": "code",
   "execution_count": 6,
   "metadata": {
    "collapsed": false
   },
   "outputs": [
    {
     "data": {
      "text/plain": [
       "pandas.indexes.multi.MultiIndex"
      ]
     },
     "execution_count": 6,
     "metadata": {},
     "output_type": "execute_result"
    }
   ],
   "source": [
    "kmeans = recordlinkage.KMeansClassifier()\n",
    "result_kmeans = kmeans.learn(krebs_data)\n",
    "\n",
    "type(result_kmeans)"
   ]
  },
  {
   "cell_type": "markdown",
   "metadata": {},
   "source": [
    "The classifier is now trained and classified the comparison vectors. "
   ]
  },
  {
   "cell_type": "code",
   "execution_count": 7,
   "metadata": {
    "collapsed": false
   },
   "outputs": [
    {
     "data": {
      "text/plain": [
       "array([[  20797,     134],\n",
       "       [ 350725, 5377476]])"
      ]
     },
     "execution_count": 7,
     "metadata": {},
     "output_type": "execute_result"
    }
   ],
   "source": [
    "conf_kmeans = recordlinkage.confusion_matrix(krebs_match, result_kmeans, len(krebs_data))\n",
    "conf_kmeans"
   ]
  },
  {
   "cell_type": "code",
   "execution_count": 8,
   "metadata": {
    "collapsed": false
   },
   "outputs": [
    {
     "data": {
      "text/plain": [
       "0.10598466567971196"
      ]
     },
     "execution_count": 8,
     "metadata": {},
     "output_type": "execute_result"
    }
   ],
   "source": [
    "# The F-score for this classification is\n",
    "recordlinkage.fscore(conf_kmeans)"
   ]
  },
  {
   "cell_type": "markdown",
   "metadata": {},
   "source": [
    "## Logistic regression\n",
    "\n",
    "For this example, consider that the true match status of the first 5000 record pairs is known. "
   ]
  },
  {
   "cell_type": "code",
   "execution_count": 9,
   "metadata": {
    "collapsed": false
   },
   "outputs": [],
   "source": [
    "golden_pairs = krebs_data[0:5000]\n",
    "golden_matches_index = golden_pairs.index & krebs_match"
   ]
  },
  {
   "cell_type": "markdown",
   "metadata": {},
   "source": [
    "The logistic classifier can be called in the same way as the k-means clustering algorithm. The only difference is now that the golden data is used for learning the algorithm. "
   ]
  },
  {
   "cell_type": "code",
   "execution_count": 10,
   "metadata": {
    "collapsed": false
   },
   "outputs": [
    {
     "data": {
      "text/plain": [
       "20024"
      ]
     },
     "execution_count": 10,
     "metadata": {},
     "output_type": "execute_result"
    }
   ],
   "source": [
    "# Train the classifier\n",
    "logreg = recordlinkage.LogisticRegressionClassifier()\n",
    "logreg.learn(golden_pairs, golden_matches_index)\n",
    "\n",
    "# Predict the match status for all record pairs\n",
    "result_logreg = logreg.predict(krebs_data)\n",
    "\n",
    "len(result_logreg)"
   ]
  },
  {
   "cell_type": "code",
   "execution_count": 11,
   "metadata": {
    "collapsed": false
   },
   "outputs": [
    {
     "data": {
      "text/plain": [
       "array([[  19831,    1100],\n",
       "       [    193, 5728008]])"
      ]
     },
     "execution_count": 11,
     "metadata": {},
     "output_type": "execute_result"
    }
   ],
   "source": [
    "conf_logreg = recordlinkage.confusion_matrix(krebs_match, result_logreg, len(krebs_data))\n",
    "conf_logreg"
   ]
  },
  {
   "cell_type": "code",
   "execution_count": 12,
   "metadata": {
    "collapsed": false
   },
   "outputs": [
    {
     "data": {
      "text/plain": [
       "0.9684287632767672"
      ]
     },
     "execution_count": 12,
     "metadata": {},
     "output_type": "execute_result"
    }
   ],
   "source": [
    "# The F-score for this classification is\n",
    "recordlinkage.fscore(conf_logreg)"
   ]
  },
  {
   "cell_type": "markdown",
   "metadata": {},
   "source": [
    "## Support Vector Machines\n",
    "\n",
    "Support vector machines have become increasingly popular in record linkage. See below why:"
   ]
  },
  {
   "cell_type": "code",
   "execution_count": 13,
   "metadata": {
    "collapsed": false
   },
   "outputs": [
    {
     "data": {
      "text/plain": [
       "20843"
      ]
     },
     "execution_count": 13,
     "metadata": {},
     "output_type": "execute_result"
    }
   ],
   "source": [
    "# Train the classifier\n",
    "svm = recordlinkage.SVMClassifier()\n",
    "svm.learn(golden_pairs, golden_matches_index)\n",
    "\n",
    "# Predict the match status for all record pairs\n",
    "result_svm = svm.predict(krebs_data)\n",
    "\n",
    "len(result_svm)"
   ]
  },
  {
   "cell_type": "code",
   "execution_count": 14,
   "metadata": {
    "collapsed": false
   },
   "outputs": [
    {
     "data": {
      "text/plain": [
       "array([[  20821,     110],\n",
       "       [     22, 5728179]])"
      ]
     },
     "execution_count": 14,
     "metadata": {},
     "output_type": "execute_result"
    }
   ],
   "source": [
    "conf_svm = recordlinkage.confusion_matrix(krebs_match, result_svm, len(krebs_data))\n",
    "conf_svm"
   ]
  },
  {
   "cell_type": "code",
   "execution_count": 15,
   "metadata": {
    "collapsed": false
   },
   "outputs": [
    {
     "data": {
      "text/plain": [
       "0.9968401397998754"
      ]
     },
     "execution_count": 15,
     "metadata": {},
     "output_type": "execute_result"
    }
   ],
   "source": [
    "# The F-score for this classification is\n",
    "recordlinkage.fscore(conf_svm)"
   ]
  },
  {
   "cell_type": "markdown",
   "metadata": {},
   "source": [
    "## Expectation/Conditional Maximization Algorithm"
   ]
  },
  {
   "cell_type": "code",
   "execution_count": 16,
   "metadata": {
    "collapsed": false
   },
   "outputs": [
    {
     "data": {
      "text/plain": [
       "19817"
      ]
     },
     "execution_count": 16,
     "metadata": {},
     "output_type": "execute_result"
    }
   ],
   "source": [
    "# Train the classifier\n",
    "ecm = recordlinkage.ECMClassifier()\n",
    "result_ecm = ecm.learn((krebs_data > 0.8).astype(int))\n",
    "\n",
    "len(result_ecm)"
   ]
  },
  {
   "cell_type": "code",
   "execution_count": 17,
   "metadata": {
    "collapsed": false
   },
   "outputs": [
    {
     "data": {
      "text/plain": [
       "array([[  19813,    1118],\n",
       "       [      4, 5728197]])"
      ]
     },
     "execution_count": 17,
     "metadata": {},
     "output_type": "execute_result"
    }
   ],
   "source": [
    "conf_ecm = recordlinkage.confusion_matrix(krebs_match, result_ecm, len(krebs_data))\n",
    "conf_ecm"
   ]
  },
  {
   "cell_type": "code",
   "execution_count": 18,
   "metadata": {
    "collapsed": false
   },
   "outputs": [
    {
     "data": {
      "text/plain": [
       "0.9724649062530676"
      ]
     },
     "execution_count": 18,
     "metadata": {},
     "output_type": "execute_result"
    }
   ],
   "source": [
    "# The F-score for this classification is\n",
    "recordlinkage.fscore(conf_ecm)"
   ]
  }
 ],
 "metadata": {
  "kernelspec": {
   "display_name": "Python 2",
   "language": "python",
   "name": "python2"
  },
  "language_info": {
   "codemirror_mode": {
    "name": "ipython",
    "version": 2
   },
   "file_extension": ".py",
   "mimetype": "text/x-python",
   "name": "python",
   "nbconvert_exporter": "python",
   "pygments_lexer": "ipython2",
   "version": "2.7.11"
  }
 },
 "nbformat": 4,
 "nbformat_minor": 0
}
