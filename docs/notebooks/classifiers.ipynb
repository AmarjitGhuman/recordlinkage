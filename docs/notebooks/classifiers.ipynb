{
 "cells": [
  {
   "cell_type": "markdown",
   "metadata": {},
   "source": [
    "# Classifying record pairs\n",
    "\n",
    "There are dozens of classification algorithms for record linkage. This page shows several classification examples. For these examples, the [Krebs register](http://recordlinkage.readthedocs.org/en/latest/reference.html#recordlinkage.datasets.krebsregister_cmp_data) (German for cancer registry) dataset is used. The Krebs register dataset contains comparison vectors for record pairs. For each record pair is known if they match or not. This was done with a massive clerical review."
   ]
  },
  {
   "cell_type": "code",
   "execution_count": 1,
   "metadata": {
    "collapsed": true,
    "hide_input": false,
    "nbshinx": "hidden"
   },
   "outputs": [],
   "source": [
    "%precision 5\n",
    "\n",
    "from __future__ import print_function\n",
    "\n",
    "import pandas as pd\n",
    "pd.set_option('precision',5)\n",
    "pd.options.display.max_rows = 10\n"
   ]
  },
  {
   "cell_type": "markdown",
   "metadata": {},
   "source": [
    "## Introduction\n",
    "First, import the recordlinkage module and the Krebs register data. "
   ]
  },
  {
   "cell_type": "code",
   "execution_count": 2,
   "metadata": {
    "collapsed": false
   },
   "outputs": [],
   "source": [
    "import recordlinkage as rl\n",
    "from recordlinkage.datasets import load_krebsregister"
   ]
  },
  {
   "cell_type": "code",
   "execution_count": 3,
   "metadata": {
    "collapsed": false
   },
   "outputs": [
    {
     "name": "stdout",
     "output_type": "stream",
     "text": [
      "Start downloading the data.\n",
      "Data download succesfull.\n"
     ]
    },
    {
     "data": {
      "text/html": [
       "<div>\n",
       "<table border=\"1\" class=\"dataframe\">\n",
       "  <thead>\n",
       "    <tr style=\"text-align: right;\">\n",
       "      <th></th>\n",
       "      <th></th>\n",
       "      <th>cmp_firstname1</th>\n",
       "      <th>cmp_firstname2</th>\n",
       "      <th>cmp_lastname1</th>\n",
       "      <th>cmp_lastname2</th>\n",
       "      <th>cmp_sex</th>\n",
       "      <th>cmp_birthday</th>\n",
       "      <th>cmp_birthmonth</th>\n",
       "      <th>cmp_birthyear</th>\n",
       "      <th>cmp_zipcode</th>\n",
       "    </tr>\n",
       "    <tr>\n",
       "      <th>id1</th>\n",
       "      <th>id2</th>\n",
       "      <th></th>\n",
       "      <th></th>\n",
       "      <th></th>\n",
       "      <th></th>\n",
       "      <th></th>\n",
       "      <th></th>\n",
       "      <th></th>\n",
       "      <th></th>\n",
       "      <th></th>\n",
       "    </tr>\n",
       "  </thead>\n",
       "  <tbody>\n",
       "    <tr>\n",
       "      <th>37291</th>\n",
       "      <th>53113</th>\n",
       "      <td>0.83333</td>\n",
       "      <td>NaN</td>\n",
       "      <td>1.00000</td>\n",
       "      <td>NaN</td>\n",
       "      <td>1</td>\n",
       "      <td>1.0</td>\n",
       "      <td>1.0</td>\n",
       "      <td>1.0</td>\n",
       "      <td>0.0</td>\n",
       "    </tr>\n",
       "    <tr>\n",
       "      <th>39086</th>\n",
       "      <th>47614</th>\n",
       "      <td>1.00000</td>\n",
       "      <td>NaN</td>\n",
       "      <td>1.00000</td>\n",
       "      <td>NaN</td>\n",
       "      <td>1</td>\n",
       "      <td>1.0</td>\n",
       "      <td>1.0</td>\n",
       "      <td>1.0</td>\n",
       "      <td>1.0</td>\n",
       "    </tr>\n",
       "    <tr>\n",
       "      <th>70031</th>\n",
       "      <th>70237</th>\n",
       "      <td>1.00000</td>\n",
       "      <td>NaN</td>\n",
       "      <td>1.00000</td>\n",
       "      <td>NaN</td>\n",
       "      <td>1</td>\n",
       "      <td>1.0</td>\n",
       "      <td>1.0</td>\n",
       "      <td>1.0</td>\n",
       "      <td>1.0</td>\n",
       "    </tr>\n",
       "    <tr>\n",
       "      <th>84795</th>\n",
       "      <th>97439</th>\n",
       "      <td>1.00000</td>\n",
       "      <td>NaN</td>\n",
       "      <td>1.00000</td>\n",
       "      <td>NaN</td>\n",
       "      <td>1</td>\n",
       "      <td>1.0</td>\n",
       "      <td>1.0</td>\n",
       "      <td>1.0</td>\n",
       "      <td>1.0</td>\n",
       "    </tr>\n",
       "    <tr>\n",
       "      <th>36950</th>\n",
       "      <th>42116</th>\n",
       "      <td>1.00000</td>\n",
       "      <td>NaN</td>\n",
       "      <td>1.00000</td>\n",
       "      <td>1.0</td>\n",
       "      <td>1</td>\n",
       "      <td>1.0</td>\n",
       "      <td>1.0</td>\n",
       "      <td>1.0</td>\n",
       "      <td>1.0</td>\n",
       "    </tr>\n",
       "    <tr>\n",
       "      <th>...</th>\n",
       "      <th>...</th>\n",
       "      <td>...</td>\n",
       "      <td>...</td>\n",
       "      <td>...</td>\n",
       "      <td>...</td>\n",
       "      <td>...</td>\n",
       "      <td>...</td>\n",
       "      <td>...</td>\n",
       "      <td>...</td>\n",
       "      <td>...</td>\n",
       "    </tr>\n",
       "    <tr>\n",
       "      <th>32517</th>\n",
       "      <th>73116</th>\n",
       "      <td>1.00000</td>\n",
       "      <td>NaN</td>\n",
       "      <td>0.22222</td>\n",
       "      <td>NaN</td>\n",
       "      <td>1</td>\n",
       "      <td>0.0</td>\n",
       "      <td>1.0</td>\n",
       "      <td>0.0</td>\n",
       "      <td>0.0</td>\n",
       "    </tr>\n",
       "    <tr>\n",
       "      <th>67707</th>\n",
       "      <th>83757</th>\n",
       "      <td>0.11111</td>\n",
       "      <td>NaN</td>\n",
       "      <td>1.00000</td>\n",
       "      <td>NaN</td>\n",
       "      <td>1</td>\n",
       "      <td>0.0</td>\n",
       "      <td>0.0</td>\n",
       "      <td>0.0</td>\n",
       "      <td>0.0</td>\n",
       "    </tr>\n",
       "    <tr>\n",
       "      <th>53258</th>\n",
       "      <th>91808</th>\n",
       "      <td>1.00000</td>\n",
       "      <td>NaN</td>\n",
       "      <td>0.00000</td>\n",
       "      <td>NaN</td>\n",
       "      <td>1</td>\n",
       "      <td>0.0</td>\n",
       "      <td>0.0</td>\n",
       "      <td>1.0</td>\n",
       "      <td>0.0</td>\n",
       "    </tr>\n",
       "    <tr>\n",
       "      <th>31865</th>\n",
       "      <th>85285</th>\n",
       "      <td>1.00000</td>\n",
       "      <td>NaN</td>\n",
       "      <td>0.11111</td>\n",
       "      <td>NaN</td>\n",
       "      <td>1</td>\n",
       "      <td>0.0</td>\n",
       "      <td>1.0</td>\n",
       "      <td>0.0</td>\n",
       "      <td>0.0</td>\n",
       "    </tr>\n",
       "    <tr>\n",
       "      <th>33119</th>\n",
       "      <th>76399</th>\n",
       "      <td>1.00000</td>\n",
       "      <td>NaN</td>\n",
       "      <td>0.00000</td>\n",
       "      <td>NaN</td>\n",
       "      <td>1</td>\n",
       "      <td>0.0</td>\n",
       "      <td>1.0</td>\n",
       "      <td>0.0</td>\n",
       "      <td>0.0</td>\n",
       "    </tr>\n",
       "  </tbody>\n",
       "</table>\n",
       "<p>5749132 rows × 9 columns</p>\n",
       "</div>"
      ],
      "text/plain": [
       "             cmp_firstname1  cmp_firstname2  cmp_lastname1  cmp_lastname2  \\\n",
       "id1   id2                                                                   \n",
       "37291 53113         0.83333             NaN        1.00000            NaN   \n",
       "39086 47614         1.00000             NaN        1.00000            NaN   \n",
       "70031 70237         1.00000             NaN        1.00000            NaN   \n",
       "84795 97439         1.00000             NaN        1.00000            NaN   \n",
       "36950 42116         1.00000             NaN        1.00000            1.0   \n",
       "...                     ...             ...            ...            ...   \n",
       "32517 73116         1.00000             NaN        0.22222            NaN   \n",
       "67707 83757         0.11111             NaN        1.00000            NaN   \n",
       "53258 91808         1.00000             NaN        0.00000            NaN   \n",
       "31865 85285         1.00000             NaN        0.11111            NaN   \n",
       "33119 76399         1.00000             NaN        0.00000            NaN   \n",
       "\n",
       "             cmp_sex  cmp_birthday  cmp_birthmonth  cmp_birthyear  cmp_zipcode  \n",
       "id1   id2                                                                       \n",
       "37291 53113        1           1.0             1.0            1.0          0.0  \n",
       "39086 47614        1           1.0             1.0            1.0          1.0  \n",
       "70031 70237        1           1.0             1.0            1.0          1.0  \n",
       "84795 97439        1           1.0             1.0            1.0          1.0  \n",
       "36950 42116        1           1.0             1.0            1.0          1.0  \n",
       "...              ...           ...             ...            ...          ...  \n",
       "32517 73116        1           0.0             1.0            0.0          0.0  \n",
       "67707 83757        1           0.0             0.0            0.0          0.0  \n",
       "53258 91808        1           0.0             0.0            1.0          0.0  \n",
       "31865 85285        1           0.0             1.0            0.0          0.0  \n",
       "33119 76399        1           0.0             1.0            0.0          0.0  \n",
       "\n",
       "[5749132 rows x 9 columns]"
      ]
     },
     "execution_count": 3,
     "metadata": {},
     "output_type": "execute_result"
    }
   ],
   "source": [
    "krebs_data, krebs_match = load_krebsregister()\n",
    "krebs_data"
   ]
  },
  {
   "cell_type": "markdown",
   "metadata": {},
   "source": [
    "The dataset contains 5749132 compared record pairs and has attributes first name, last name, sex, birthday, birthmonth, birthyear and zipcode."
   ]
  },
  {
   "cell_type": "code",
   "execution_count": 4,
   "metadata": {
    "collapsed": false
   },
   "outputs": [
    {
     "data": {
      "text/html": [
       "<div>\n",
       "<table border=\"1\" class=\"dataframe\">\n",
       "  <thead>\n",
       "    <tr style=\"text-align: right;\">\n",
       "      <th></th>\n",
       "      <th>count</th>\n",
       "      <th>mean</th>\n",
       "      <th>std</th>\n",
       "      <th>min</th>\n",
       "      <th>25%</th>\n",
       "      <th>50%</th>\n",
       "      <th>75%</th>\n",
       "      <th>max</th>\n",
       "    </tr>\n",
       "  </thead>\n",
       "  <tbody>\n",
       "    <tr>\n",
       "      <th>cmp_firstname1</th>\n",
       "      <td>5748125.0</td>\n",
       "      <td>0.71290</td>\n",
       "      <td>0.38876</td>\n",
       "      <td>0.0</td>\n",
       "      <td>0.28571</td>\n",
       "      <td>1.00000</td>\n",
       "      <td>1.00000</td>\n",
       "      <td>1.0</td>\n",
       "    </tr>\n",
       "    <tr>\n",
       "      <th>cmp_firstname2</th>\n",
       "      <td>103698.0</td>\n",
       "      <td>0.90002</td>\n",
       "      <td>0.27132</td>\n",
       "      <td>0.0</td>\n",
       "      <td>1.00000</td>\n",
       "      <td>1.00000</td>\n",
       "      <td>1.00000</td>\n",
       "      <td>1.0</td>\n",
       "    </tr>\n",
       "    <tr>\n",
       "      <th>cmp_lastname1</th>\n",
       "      <td>5749132.0</td>\n",
       "      <td>0.31563</td>\n",
       "      <td>0.33423</td>\n",
       "      <td>0.0</td>\n",
       "      <td>0.10000</td>\n",
       "      <td>0.18182</td>\n",
       "      <td>0.42857</td>\n",
       "      <td>1.0</td>\n",
       "    </tr>\n",
       "    <tr>\n",
       "      <th>cmp_lastname2</th>\n",
       "      <td>2464.0</td>\n",
       "      <td>0.31841</td>\n",
       "      <td>0.36857</td>\n",
       "      <td>0.0</td>\n",
       "      <td>0.00000</td>\n",
       "      <td>0.16667</td>\n",
       "      <td>0.37500</td>\n",
       "      <td>1.0</td>\n",
       "    </tr>\n",
       "    <tr>\n",
       "      <th>cmp_sex</th>\n",
       "      <td>5749132.0</td>\n",
       "      <td>0.95500</td>\n",
       "      <td>0.20730</td>\n",
       "      <td>0.0</td>\n",
       "      <td>1.00000</td>\n",
       "      <td>1.00000</td>\n",
       "      <td>1.00000</td>\n",
       "      <td>1.0</td>\n",
       "    </tr>\n",
       "    <tr>\n",
       "      <th>cmp_birthday</th>\n",
       "      <td>5748337.0</td>\n",
       "      <td>0.22447</td>\n",
       "      <td>0.41723</td>\n",
       "      <td>0.0</td>\n",
       "      <td>0.00000</td>\n",
       "      <td>0.00000</td>\n",
       "      <td>0.00000</td>\n",
       "      <td>1.0</td>\n",
       "    </tr>\n",
       "    <tr>\n",
       "      <th>cmp_birthmonth</th>\n",
       "      <td>5748337.0</td>\n",
       "      <td>0.48886</td>\n",
       "      <td>0.49988</td>\n",
       "      <td>0.0</td>\n",
       "      <td>0.00000</td>\n",
       "      <td>0.00000</td>\n",
       "      <td>1.00000</td>\n",
       "      <td>1.0</td>\n",
       "    </tr>\n",
       "    <tr>\n",
       "      <th>cmp_birthyear</th>\n",
       "      <td>5748337.0</td>\n",
       "      <td>0.22275</td>\n",
       "      <td>0.41609</td>\n",
       "      <td>0.0</td>\n",
       "      <td>0.00000</td>\n",
       "      <td>0.00000</td>\n",
       "      <td>0.00000</td>\n",
       "      <td>1.0</td>\n",
       "    </tr>\n",
       "    <tr>\n",
       "      <th>cmp_zipcode</th>\n",
       "      <td>5736289.0</td>\n",
       "      <td>0.00553</td>\n",
       "      <td>0.07415</td>\n",
       "      <td>0.0</td>\n",
       "      <td>0.00000</td>\n",
       "      <td>0.00000</td>\n",
       "      <td>0.00000</td>\n",
       "      <td>1.0</td>\n",
       "    </tr>\n",
       "  </tbody>\n",
       "</table>\n",
       "</div>"
      ],
      "text/plain": [
       "                    count     mean      std  min      25%      50%      75%  \\\n",
       "cmp_firstname1  5748125.0  0.71290  0.38876  0.0  0.28571  1.00000  1.00000   \n",
       "cmp_firstname2   103698.0  0.90002  0.27132  0.0  1.00000  1.00000  1.00000   \n",
       "cmp_lastname1   5749132.0  0.31563  0.33423  0.0  0.10000  0.18182  0.42857   \n",
       "cmp_lastname2      2464.0  0.31841  0.36857  0.0  0.00000  0.16667  0.37500   \n",
       "cmp_sex         5749132.0  0.95500  0.20730  0.0  1.00000  1.00000  1.00000   \n",
       "cmp_birthday    5748337.0  0.22447  0.41723  0.0  0.00000  0.00000  0.00000   \n",
       "cmp_birthmonth  5748337.0  0.48886  0.49988  0.0  0.00000  0.00000  1.00000   \n",
       "cmp_birthyear   5748337.0  0.22275  0.41609  0.0  0.00000  0.00000  0.00000   \n",
       "cmp_zipcode     5736289.0  0.00553  0.07415  0.0  0.00000  0.00000  0.00000   \n",
       "\n",
       "                max  \n",
       "cmp_firstname1  1.0  \n",
       "cmp_firstname2  1.0  \n",
       "cmp_lastname1   1.0  \n",
       "cmp_lastname2   1.0  \n",
       "cmp_sex         1.0  \n",
       "cmp_birthday    1.0  \n",
       "cmp_birthmonth  1.0  \n",
       "cmp_birthyear   1.0  \n",
       "cmp_zipcode     1.0  "
      ]
     },
     "execution_count": 4,
     "metadata": {},
     "output_type": "execute_result"
    }
   ],
   "source": [
    "krebs_data.describe().T"
   ]
  },
  {
   "cell_type": "markdown",
   "metadata": {},
   "source": [
    "The number of links in the data is:"
   ]
  },
  {
   "cell_type": "code",
   "execution_count": 5,
   "metadata": {
    "collapsed": false
   },
   "outputs": [
    {
     "data": {
      "text/plain": [
       "20931"
      ]
     },
     "execution_count": 5,
     "metadata": {},
     "output_type": "execute_result"
    }
   ],
   "source": [
    "len(krebs_match)"
   ]
  },
  {
   "cell_type": "markdown",
   "metadata": {},
   "source": [
    "Most of the classifiers in the ``recordlinkage`` package can not handle missing values in the comparison data. In the krebsregister dataset, two features are nearly always missing (cmp_firstname2 and cmp_lastname2). Also the other features are sometimes missing. To prevent issues with the classification algorithms, a widely used method is to declare missing values as disagreeing comparisons. So, use the power of ``pandas`` to replace the missing values quickly:"
   ]
  },
  {
   "cell_type": "code",
   "execution_count": 6,
   "metadata": {
    "collapsed": true
   },
   "outputs": [],
   "source": [
    "krebs_data.fillna(0, inplace=True)"
   ]
  },
  {
   "cell_type": "markdown",
   "metadata": {},
   "source": [
    "## K-means classifier\n",
    "\n",
    "The K-means clustering algorithm is well-known and widely used in big data analysis. The K-means classfier in the ``recordlinkage`` package is configured in such a way that it can be used for linking records. For more info about the K-means clustering see [wikipedia](https://en.wikipedia.org/wiki/K-means_clustering). "
   ]
  },
  {
   "cell_type": "code",
   "execution_count": 7,
   "metadata": {
    "collapsed": false
   },
   "outputs": [
    {
     "data": {
      "text/plain": [
       "371525"
      ]
     },
     "execution_count": 7,
     "metadata": {},
     "output_type": "execute_result"
    }
   ],
   "source": [
    "kmeans = rl.KMeansClassifier()\n",
    "result_kmeans = kmeans.learn(krebs_data)\n",
    "\n",
    "# The predicted number of matches\n",
    "len(result_kmeans)"
   ]
  },
  {
   "cell_type": "markdown",
   "metadata": {},
   "source": [
    "The classifier is now trained and the comparison vectors are classified. "
   ]
  },
  {
   "cell_type": "code",
   "execution_count": 8,
   "metadata": {
    "collapsed": false
   },
   "outputs": [
    {
     "data": {
      "text/plain": [
       "0.10598"
      ]
     },
     "execution_count": 8,
     "metadata": {},
     "output_type": "execute_result"
    }
   ],
   "source": [
    "cm_kmeans = rl.confusion_matrix(krebs_match, result_kmeans, len(krebs_data))\n",
    "fscore_kmeans = rl.fscore(cm_kmeans)\n",
    "\n",
    "fscore_kmeans"
   ]
  },
  {
   "cell_type": "markdown",
   "metadata": {},
   "source": [
    "## Logistic regression\n",
    "\n",
    "For this example, consider that the true match status of the first 5000 record pairs is known. "
   ]
  },
  {
   "cell_type": "code",
   "execution_count": 9,
   "metadata": {
    "collapsed": false
   },
   "outputs": [],
   "source": [
    "golden_pairs = krebs_data[0:5000]\n",
    "golden_matches_index = golden_pairs.index & krebs_match"
   ]
  },
  {
   "cell_type": "markdown",
   "metadata": {},
   "source": [
    "The logistic classifier can be called in the same way as the k-means clustering algorithm. The only difference is now that the golden data is used for learning the algorithm. "
   ]
  },
  {
   "cell_type": "code",
   "execution_count": 10,
   "metadata": {
    "collapsed": false
   },
   "outputs": [
    {
     "data": {
      "text/plain": [
       "22699"
      ]
     },
     "execution_count": 10,
     "metadata": {},
     "output_type": "execute_result"
    }
   ],
   "source": [
    "# Train the classifier\n",
    "logreg = rl.LogisticRegressionClassifier()\n",
    "logreg.learn(golden_pairs, golden_matches_index)\n",
    "\n",
    "# Predict the match status for all record pairs\n",
    "result_logreg = logreg.predict(krebs_data)\n",
    "\n",
    "len(result_logreg)"
   ]
  },
  {
   "cell_type": "code",
   "execution_count": 11,
   "metadata": {
    "collapsed": false
   },
   "outputs": [
    {
     "data": {
      "text/plain": [
       "array([[  20925,       6],\n",
       "       [   1774, 5726427]])"
      ]
     },
     "execution_count": 11,
     "metadata": {},
     "output_type": "execute_result"
    }
   ],
   "source": [
    "conf_logreg = rl.confusion_matrix(krebs_match, result_logreg, len(krebs_data))\n",
    "conf_logreg"
   ]
  },
  {
   "cell_type": "code",
   "execution_count": 12,
   "metadata": {
    "collapsed": false
   },
   "outputs": [
    {
     "data": {
      "text/plain": [
       "0.95920"
      ]
     },
     "execution_count": 12,
     "metadata": {},
     "output_type": "execute_result"
    }
   ],
   "source": [
    "# The F-score for this classification is\n",
    "rl.fscore(conf_logreg)"
   ]
  },
  {
   "cell_type": "markdown",
   "metadata": {},
   "source": [
    "## Support Vector Machines\n",
    "\n",
    "Support vector machines have become increasingly popular in record linkage. See below why:"
   ]
  },
  {
   "cell_type": "code",
   "execution_count": 13,
   "metadata": {
    "collapsed": false
   },
   "outputs": [
    {
     "data": {
      "text/plain": [
       "22302"
      ]
     },
     "execution_count": 13,
     "metadata": {},
     "output_type": "execute_result"
    }
   ],
   "source": [
    "# Train the classifier\n",
    "svm = rl.SVMClassifier()\n",
    "svm.learn(golden_pairs, golden_matches_index)\n",
    "\n",
    "# Predict the match status for all record pairs\n",
    "result_svm = svm.predict(krebs_data)\n",
    "\n",
    "len(result_svm)"
   ]
  },
  {
   "cell_type": "code",
   "execution_count": 14,
   "metadata": {
    "collapsed": false
   },
   "outputs": [
    {
     "data": {
      "text/plain": [
       "array([[  20925,       6],\n",
       "       [   1377, 5726824]])"
      ]
     },
     "execution_count": 14,
     "metadata": {},
     "output_type": "execute_result"
    }
   ],
   "source": [
    "conf_svm = rl.confusion_matrix(krebs_match, result_svm, len(krebs_data))\n",
    "conf_svm"
   ]
  },
  {
   "cell_type": "code",
   "execution_count": 15,
   "metadata": {
    "collapsed": false
   },
   "outputs": [
    {
     "data": {
      "text/plain": [
       "0.96801"
      ]
     },
     "execution_count": 15,
     "metadata": {},
     "output_type": "execute_result"
    }
   ],
   "source": [
    "# The F-score for this classification is\n",
    "rl.fscore(conf_svm)"
   ]
  },
  {
   "cell_type": "markdown",
   "metadata": {},
   "source": [
    "## Expectation/Conditional Maximization Algorithm"
   ]
  },
  {
   "cell_type": "code",
   "execution_count": 16,
   "metadata": {
    "collapsed": false
   },
   "outputs": [
    {
     "data": {
      "text/plain": [
       "19817"
      ]
     },
     "execution_count": 16,
     "metadata": {},
     "output_type": "execute_result"
    }
   ],
   "source": [
    "# Train the classifier\n",
    "ecm = rl.ECMClassifier()\n",
    "result_ecm = ecm.learn((krebs_data > 0.8).astype(int))\n",
    "\n",
    "len(result_ecm)"
   ]
  },
  {
   "cell_type": "code",
   "execution_count": 17,
   "metadata": {
    "collapsed": false
   },
   "outputs": [
    {
     "data": {
      "text/plain": [
       "array([[  19813,    1118],\n",
       "       [      4, 5728197]])"
      ]
     },
     "execution_count": 17,
     "metadata": {},
     "output_type": "execute_result"
    }
   ],
   "source": [
    "conf_ecm = rl.confusion_matrix(krebs_match, result_ecm, len(krebs_data))\n",
    "conf_ecm"
   ]
  },
  {
   "cell_type": "code",
   "execution_count": 18,
   "metadata": {
    "collapsed": false
   },
   "outputs": [
    {
     "data": {
      "text/plain": [
       "0.97246"
      ]
     },
     "execution_count": 18,
     "metadata": {},
     "output_type": "execute_result"
    }
   ],
   "source": [
    "# The F-score for this classification is\n",
    "rl.fscore(conf_ecm)"
   ]
  }
 ],
 "metadata": {
  "kernelspec": {
   "display_name": "Python 3",
   "language": "python",
   "name": "python3"
  },
  "language_info": {
   "codemirror_mode": {
    "name": "ipython",
    "version": 3
   },
   "file_extension": ".py",
   "mimetype": "text/x-python",
   "name": "python",
   "nbconvert_exporter": "python",
   "pygments_lexer": "ipython3",
   "version": "3.5.2"
  }
 },
 "nbformat": 4,
 "nbformat_minor": 0
}
