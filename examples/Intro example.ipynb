{
 "cells": [
  {
   "cell_type": "markdown",
   "metadata": {},
   "source": [
    "The following example shows how the record linkage module can be used to link two files with personal information. First import the Recordlinkage module and the Pandas module. The Recordlinkage module is build on the strong Pandas framework.  "
   ]
  },
  {
   "cell_type": "code",
   "execution_count": 1,
   "metadata": {
    "collapsed": true
   },
   "outputs": [],
   "source": [
    "%cd -q .."
   ]
  },
  {
   "cell_type": "code",
   "execution_count": 2,
   "metadata": {
    "collapsed": false
   },
   "outputs": [],
   "source": [
    "import pandas\n",
    "import recordlinkage\n",
    "\n",
    "from recordlinkage import datasets"
   ]
  },
  {
   "cell_type": "markdown",
   "metadata": {},
   "source": [
    "After importing the record linkage and pandas module, it is time to import the datasets. In this case, we use two sample datasets with basic information about persons. Call the dataset dfA and dfB."
   ]
  },
  {
   "cell_type": "code",
   "execution_count": 3,
   "metadata": {
    "collapsed": false
   },
   "outputs": [],
   "source": [
    "dfA = datasets.load_censusA()\n",
    "dfB = datasets.load_censusB()"
   ]
  },
  {
   "cell_type": "markdown",
   "metadata": {},
   "source": [
    "The first step is to make record pairs. Each pair contains one record of dataset dfA and one record of dataset dfB. The pairs contain the information of all columns in dfA and dfB."
   ]
  },
  {
   "cell_type": "code",
   "execution_count": 4,
   "metadata": {
    "collapsed": false
   },
   "outputs": [],
   "source": [
    "pairing = recordlinkage.Pairs(dfA, dfB, suffixes=('_A', '_B'))\n",
    "\n",
    "pairs = pairing.full()"
   ]
  },
  {
   "cell_type": "markdown",
   "metadata": {},
   "source": [
    "Each record pair is compared on some attributes both record have in common. "
   ]
  },
  {
   "cell_type": "code",
   "execution_count": 5,
   "metadata": {
    "collapsed": false
   },
   "outputs": [
    {
     "data": {
      "text/html": [
       "<div>\n",
       "<table border=\"1\" class=\"dataframe\">\n",
       "  <thead>\n",
       "    <tr style=\"text-align: right;\">\n",
       "      <th></th>\n",
       "      <th></th>\n",
       "      <th>first_name</th>\n",
       "      <th>last_name</th>\n",
       "      <th>sex</th>\n",
       "      <th>birthdate</th>\n",
       "      <th>city</th>\n",
       "      <th>street_address</th>\n",
       "      <th>job</th>\n",
       "      <th>email</th>\n",
       "    </tr>\n",
       "    <tr>\n",
       "      <th>index_A</th>\n",
       "      <th>index_B</th>\n",
       "      <th></th>\n",
       "      <th></th>\n",
       "      <th></th>\n",
       "      <th></th>\n",
       "      <th></th>\n",
       "      <th></th>\n",
       "      <th></th>\n",
       "      <th></th>\n",
       "    </tr>\n",
       "  </thead>\n",
       "  <tbody>\n",
       "    <tr>\n",
       "      <th>1000101</th>\n",
       "      <th>1000182</th>\n",
       "      <td>0</td>\n",
       "      <td>0</td>\n",
       "      <td>1</td>\n",
       "      <td>0</td>\n",
       "      <td>0</td>\n",
       "      <td>0</td>\n",
       "      <td>0</td>\n",
       "      <td>0</td>\n",
       "    </tr>\n",
       "    <tr>\n",
       "      <th>1000500</th>\n",
       "      <th>1000536</th>\n",
       "      <td>0</td>\n",
       "      <td>0</td>\n",
       "      <td>1</td>\n",
       "      <td>0</td>\n",
       "      <td>0</td>\n",
       "      <td>0</td>\n",
       "      <td>0</td>\n",
       "      <td>0</td>\n",
       "    </tr>\n",
       "    <tr>\n",
       "      <th>1000273</th>\n",
       "      <th>1000148</th>\n",
       "      <td>0</td>\n",
       "      <td>0</td>\n",
       "      <td>1</td>\n",
       "      <td>0</td>\n",
       "      <td>0</td>\n",
       "      <td>0</td>\n",
       "      <td>0</td>\n",
       "      <td>0</td>\n",
       "    </tr>\n",
       "    <tr>\n",
       "      <th>1000651</th>\n",
       "      <th>1000706</th>\n",
       "      <td>0</td>\n",
       "      <td>0</td>\n",
       "      <td>0</td>\n",
       "      <td>0</td>\n",
       "      <td>0</td>\n",
       "      <td>0</td>\n",
       "      <td>0</td>\n",
       "      <td>0</td>\n",
       "    </tr>\n",
       "    <tr>\n",
       "      <th>1000742</th>\n",
       "      <th>1000366</th>\n",
       "      <td>0</td>\n",
       "      <td>0</td>\n",
       "      <td>1</td>\n",
       "      <td>0</td>\n",
       "      <td>0</td>\n",
       "      <td>0</td>\n",
       "      <td>0</td>\n",
       "      <td>0</td>\n",
       "    </tr>\n",
       "    <tr>\n",
       "      <th>1000870</th>\n",
       "      <th>1000502</th>\n",
       "      <td>0</td>\n",
       "      <td>0</td>\n",
       "      <td>1</td>\n",
       "      <td>0</td>\n",
       "      <td>0</td>\n",
       "      <td>0</td>\n",
       "      <td>0</td>\n",
       "      <td>0</td>\n",
       "    </tr>\n",
       "    <tr>\n",
       "      <th>1000246</th>\n",
       "      <th>1000472</th>\n",
       "      <td>0</td>\n",
       "      <td>0</td>\n",
       "      <td>1</td>\n",
       "      <td>0</td>\n",
       "      <td>0</td>\n",
       "      <td>0</td>\n",
       "      <td>0</td>\n",
       "      <td>0</td>\n",
       "    </tr>\n",
       "    <tr>\n",
       "      <th>1000164</th>\n",
       "      <th>1000104</th>\n",
       "      <td>0</td>\n",
       "      <td>1</td>\n",
       "      <td>0</td>\n",
       "      <td>0</td>\n",
       "      <td>0</td>\n",
       "      <td>0</td>\n",
       "      <td>0</td>\n",
       "      <td>0</td>\n",
       "    </tr>\n",
       "    <tr>\n",
       "      <th>1000194</th>\n",
       "      <th>1000887</th>\n",
       "      <td>0</td>\n",
       "      <td>0</td>\n",
       "      <td>0</td>\n",
       "      <td>0</td>\n",
       "      <td>0</td>\n",
       "      <td>0</td>\n",
       "      <td>0</td>\n",
       "      <td>0</td>\n",
       "    </tr>\n",
       "    <tr>\n",
       "      <th>1000543</th>\n",
       "      <th>1000872</th>\n",
       "      <td>0</td>\n",
       "      <td>0</td>\n",
       "      <td>0</td>\n",
       "      <td>0</td>\n",
       "      <td>0</td>\n",
       "      <td>0</td>\n",
       "      <td>0</td>\n",
       "      <td>0</td>\n",
       "    </tr>\n",
       "  </tbody>\n",
       "</table>\n",
       "</div>"
      ],
      "text/plain": [
       "                 first_name  last_name  sex  birthdate  city  street_address  \\\n",
       "index_A index_B                                                                \n",
       "1000101 1000182           0          0    1          0     0               0   \n",
       "1000500 1000536           0          0    1          0     0               0   \n",
       "1000273 1000148           0          0    1          0     0               0   \n",
       "1000651 1000706           0          0    0          0     0               0   \n",
       "1000742 1000366           0          0    1          0     0               0   \n",
       "1000870 1000502           0          0    1          0     0               0   \n",
       "1000246 1000472           0          0    1          0     0               0   \n",
       "1000164 1000104           0          1    0          0     0               0   \n",
       "1000194 1000887           0          0    0          0     0               0   \n",
       "1000543 1000872           0          0    0          0     0               0   \n",
       "\n",
       "                 job  email  \n",
       "index_A index_B              \n",
       "1000101 1000182    0      0  \n",
       "1000500 1000536    0      0  \n",
       "1000273 1000148    0      0  \n",
       "1000651 1000706    0      0  \n",
       "1000742 1000366    0      0  \n",
       "1000870 1000502    0      0  \n",
       "1000246 1000472    0      0  \n",
       "1000164 1000104    0      0  \n",
       "1000194 1000887    0      0  \n",
       "1000543 1000872    0      0  "
      ]
     },
     "execution_count": 5,
     "metadata": {},
     "output_type": "execute_result"
    }
   ],
   "source": [
    "comparing = recordlinkage.Compare(pairs)\n",
    "comparing.exact(pairs['first_name_A'], pairs['first_name_B'], name='first_name')\n",
    "comparing.exact(pairs['last_name_A'], pairs['last_name_B'], name='last_name')\n",
    "comparing.exact(pairs['sex_A'], pairs['sex_B'], name='sex')\n",
    "comparing.exact(pairs['birthdate_A'], pairs['birthdate_B'], name='birthdate')\n",
    "comparing.exact(pairs['city_A'], pairs['city_B'], name='city')\n",
    "comparing.exact(pairs['street_address_A'], pairs['street_address_B'], name='street_address')\n",
    "comparing.exact(pairs['job_A'], pairs['job_B'], name='job')\n",
    "comparing.exact(pairs['email_A'], pairs['email_B'], name='email')\n",
    "\n",
    "comparing.comparison_vectors.sample(10)"
   ]
  },
  {
   "cell_type": "code",
   "execution_count": null,
   "metadata": {
    "collapsed": false
   },
   "outputs": [],
   "source": [
    "m = {\n",
    "    'surname': {0:0.1, 1:0.9},\n",
    "    'given_name': {0:0.1, 1:0.9},\n",
    "    'suburb': {0:0.1, 1:0.9},\n",
    "    'date_of_birth': {0:0.1, 1:0.9},\n",
    "    'street_number': {0:0.1, 1:0.9}\n",
    "    }\n",
    "\n",
    "u = {\n",
    "    'surname': {0:0.9, 1:0.1},\n",
    "    'given_name': {0:0.9, 1:0.1},\n",
    "    'suburb': {0:0.9, 1:0.1},\n",
    "    'date_of_birth': {0:0.9, 1:0.1},\n",
    "    'street_number': {0:0.9, 1:0.1}\n",
    "    }\n",
    "\n",
    "p = 0.1\n",
    "\n",
    "fs = recordlinkage.FellegiSunterClassifier()\n",
    "\n",
    "fs.ecm(\n",
    "    comparison_vectors=comparing.comparison_vectors, \n",
    "    start_m=m, \n",
    "    start_u=u, \n",
    "    start_p=p,\n",
    "    max_iter=20\n",
    ")\n",
    "\n",
    "fs.matches(comparing.comparison_vectors, w=10)"
   ]
  }
 ],
 "metadata": {
  "kernelspec": {
   "display_name": "Python 2",
   "language": "python",
   "name": "python2"
  },
  "language_info": {
   "codemirror_mode": {
    "name": "ipython",
    "version": 2
   },
   "file_extension": ".py",
   "mimetype": "text/x-python",
   "name": "python",
   "nbconvert_exporter": "python",
   "pygments_lexer": "ipython2",
   "version": "2.7.10"
  }
 },
 "nbformat": 4,
 "nbformat_minor": 0
}
