{
 "cells": [
  {
   "cell_type": "markdown",
   "metadata": {},
   "source": [
    "The following example shows how the record linkage module can be used to link two files with personal information. First import the Recordlinkage module and the Pandas module. The Recordlinkage module is build on the strong Pandas framework.  "
   ]
  },
  {
   "cell_type": "code",
   "execution_count": 1,
   "metadata": {
    "collapsed": false
   },
   "outputs": [
    {
     "name": "stderr",
     "output_type": "stream",
     "text": [
      "/Users/jonathandebruin/anaconda/lib/python2.7/site-packages/IPython/parallel.py:13: ShimWarning: The `IPython.parallel` package has been deprecated. You should import from ipyparallel instead.\n",
      "  \"You should import from ipyparallel instead.\", ShimWarning)\n"
     ]
    }
   ],
   "source": [
    "import sys\n",
    "sys.path.insert(1, \"..\")\n",
    "\n",
    "%qtconsole\n",
    "\n",
    "import pandas\n",
    "import recordlinkage"
   ]
  },
  {
   "cell_type": "markdown",
   "metadata": {},
   "source": [
    "After importing the record linkage and pandas module, it is time to import the datasets. In this case, we use two sample datasets with basic information about persons. Call the dataset dfA and dfB."
   ]
  },
  {
   "cell_type": "code",
   "execution_count": 2,
   "metadata": {
    "collapsed": false
   },
   "outputs": [],
   "source": [
    "dfA = pandas.read_csv('../sampledata/dataset2.csv', index_col='rec_id')\n",
    "dfB = pandas.read_csv('../sampledata/dataset1.csv', index_col='rec_id')"
   ]
  },
  {
   "cell_type": "markdown",
   "metadata": {},
   "source": [
    "The first step is to make record pairs. Each pair contains one record of dataset dfA and one record of dataset dfB. The pairs contain the information of all columns in dfA and dfB."
   ]
  },
  {
   "cell_type": "code",
   "execution_count": 3,
   "metadata": {
    "collapsed": false
   },
   "outputs": [],
   "source": [
    "pairing = recordlinkage.Pairs(dfA, dfB)\n",
    "\n",
    "pairs = pairing.full()"
   ]
  },
  {
   "cell_type": "markdown",
   "metadata": {},
   "source": [
    "Each record pair is compared on some attributes both record have in common. "
   ]
  },
  {
   "cell_type": "code",
   "execution_count": null,
   "metadata": {
    "collapsed": false
   },
   "outputs": [],
   "source": [
    "comparing = recordlinkage.Compare(pairs)\n",
    "comparing.compare(recordlinkage.exact, pairs['surname_A'], pairs['surname_B'], name='surname')\n",
    "comparing.compare(recordlinkage.exact, pairs['given_name_A'], pairs['given_name_B'], name='given_name')\n",
    "comparing.compare(recordlinkage.exact, pairs['suburb_A'], pairs['suburb_B'], name='suburb')\n",
    "comparing.compare(recordlinkage.exact, pairs['date_of_birth_A'], pairs['date_of_birth_B'], name='date_of_birth')\n",
    "comparing.compare(recordlinkage.exact, pairs['street_number_A'], pairs['street_number_B'], name='street_number')\n",
    "\n",
    "comparing.comparison_vectors.head()"
   ]
  },
  {
   "cell_type": "code",
   "execution_count": null,
   "metadata": {
    "collapsed": false
   },
   "outputs": [],
   "source": [
    "m = {\n",
    "    'surname': {0:0.1, 1:0.9},\n",
    "    'given_name': {0:0.1, 1:0.9},\n",
    "    'suburb': {0:0.1, 1:0.9},\n",
    "    'date_of_birth': {0:0.1, 1:0.9},\n",
    "    'street_number': {0:0.1, 1:0.9}\n",
    "    }\n",
    "\n",
    "u = {\n",
    "    'surname': {0:0.9, 1:0.1},\n",
    "    'given_name': {0:0.9, 1:0.1},\n",
    "    'suburb': {0:0.9, 1:0.1},\n",
    "    'date_of_birth': {0:0.9, 1:0.1},\n",
    "    'street_number': {0:0.9, 1:0.1}\n",
    "    }\n",
    "\n",
    "p = 0.1\n",
    "\n",
    "fs = recordlinkage.FellegiSunterClassifier()\n",
    "\n",
    "fs.ecm(\n",
    "    comparison_vectors=comparing.comparison_vectors, \n",
    "    start_m=m, \n",
    "    start_u=u, \n",
    "    start_p=p,\n",
    "    max_iter=20\n",
    ")\n",
    "\n",
    "fs.matches(comparing.comparison_vectors, w=10)"
   ]
  }
 ],
 "metadata": {
  "kernelspec": {
   "display_name": "Python 2",
   "language": "python",
   "name": "python2"
  },
  "language_info": {
   "codemirror_mode": {
    "name": "ipython",
    "version": 2
   },
   "file_extension": ".py",
   "mimetype": "text/x-python",
   "name": "python",
   "nbconvert_exporter": "python",
   "pygments_lexer": "ipython2",
   "version": "2.7.10"
  }
 },
 "nbformat": 4,
 "nbformat_minor": 0
}
