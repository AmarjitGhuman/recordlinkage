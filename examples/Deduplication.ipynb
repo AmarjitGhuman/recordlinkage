{
 "cells": [
  {
   "cell_type": "code",
   "execution_count": 368,
   "metadata": {
    "collapsed": false
   },
   "outputs": [
    {
     "data": {
      "text/plain": [
       "<module 'indexing' from '../recordlinkage/indexing.py'>"
      ]
     },
     "execution_count": 368,
     "metadata": {},
     "output_type": "execute_result"
    }
   ],
   "source": [
    "import sys\n",
    "sys.path.insert(1, \"../recordlinkage\")\n",
    "\n",
    "from pandas import DataFrame, Series\n",
    "import numpy as np\n",
    "\n",
    "import standardise\n",
    "reload(standardise)\n",
    "\n",
    "import indexing\n",
    "reload(indexing)"
   ]
  },
  {
   "cell_type": "markdown",
   "metadata": {},
   "source": [
    "The next step is to load and standardise the data to deduplicate. "
   ]
  },
  {
   "cell_type": "code",
   "execution_count": 369,
   "metadata": {
    "collapsed": false
   },
   "outputs": [
    {
     "data": {
      "text/html": [
       "<div>\n",
       "<table border=\"1\" class=\"dataframe\">\n",
       "  <thead>\n",
       "    <tr style=\"text-align: right;\">\n",
       "      <th></th>\n",
       "      <th>0</th>\n",
       "      <th>1</th>\n",
       "      <th>2</th>\n",
       "      <th>3</th>\n",
       "    </tr>\n",
       "  </thead>\n",
       "  <tbody>\n",
       "    <tr>\n",
       "      <th>2</th>\n",
       "      <td>2</td>\n",
       "      <td>2</td>\n",
       "      <td>3</td>\n",
       "      <td>4</td>\n",
       "    </tr>\n",
       "    <tr>\n",
       "      <th>1</th>\n",
       "      <td>2</td>\n",
       "      <td>2</td>\n",
       "      <td>3</td>\n",
       "      <td>4</td>\n",
       "    </tr>\n",
       "    <tr>\n",
       "      <th>3</th>\n",
       "      <td>2</td>\n",
       "      <td>2</td>\n",
       "      <td>3</td>\n",
       "      <td>4</td>\n",
       "    </tr>\n",
       "    <tr>\n",
       "      <th>4</th>\n",
       "      <td>2</td>\n",
       "      <td>10</td>\n",
       "      <td>3</td>\n",
       "      <td>4</td>\n",
       "    </tr>\n",
       "    <tr>\n",
       "      <th>5</th>\n",
       "      <td>2</td>\n",
       "      <td>10</td>\n",
       "      <td>3</td>\n",
       "      <td>4</td>\n",
       "    </tr>\n",
       "  </tbody>\n",
       "</table>\n",
       "</div>"
      ],
      "text/plain": [
       "   0   1  2  3\n",
       "2  2   2  3  4\n",
       "1  2   2  3  4\n",
       "3  2   2  3  4\n",
       "4  2  10  3  4\n",
       "5  2  10  3  4"
      ]
     },
     "execution_count": 369,
     "metadata": {},
     "output_type": "execute_result"
    }
   ],
   "source": [
    "df = DataFrame([[2,2,3, 4], [2,2,3,4],[2,2,3,4], [2,10,3,4], [2,10,3,4]], index=[2,1,3,4,5])\n",
    "df"
   ]
  },
  {
   "cell_type": "code",
   "execution_count": 370,
   "metadata": {
    "collapsed": false
   },
   "outputs": [
    {
     "name": "stdout",
     "output_type": "stream",
     "text": [
      "   0   1  2  3  dedupe_col  index_A\n",
      "2  2   2  3  4           0        2\n",
      "1  2   2  3  4           1        1\n",
      "3  2   2  3  4           2        3\n",
      "4  2  10  3  4           3        4\n",
      "5  2  10  3  4           4        5\n",
      "   0   1  2  3  dedupe_col  index_B\n",
      "2  2   2  3  4           0        2\n",
      "1  2   2  3  4           1        1\n",
      "3  2   2  3  4           2        3\n",
      "4  2  10  3  4           3        4\n",
      "5  2  10  3  4           4        5\n"
     ]
    },
    {
     "data": {
      "text/html": [
       "<div>\n",
       "<table border=\"1\" class=\"dataframe\">\n",
       "  <thead>\n",
       "    <tr style=\"text-align: right;\">\n",
       "      <th></th>\n",
       "      <th></th>\n",
       "      <th>0</th>\n",
       "      <th>1</th>\n",
       "      <th>2_A</th>\n",
       "      <th>3_A</th>\n",
       "      <th>2_B</th>\n",
       "      <th>3_B</th>\n",
       "    </tr>\n",
       "    <tr>\n",
       "      <th>index_A</th>\n",
       "      <th>index_B</th>\n",
       "      <th></th>\n",
       "      <th></th>\n",
       "      <th></th>\n",
       "      <th></th>\n",
       "      <th></th>\n",
       "      <th></th>\n",
       "    </tr>\n",
       "  </thead>\n",
       "  <tbody>\n",
       "    <tr>\n",
       "      <th rowspan=\"2\" valign=\"top\">2</th>\n",
       "      <th>1</th>\n",
       "      <td>2</td>\n",
       "      <td>2</td>\n",
       "      <td>3</td>\n",
       "      <td>4</td>\n",
       "      <td>3</td>\n",
       "      <td>4</td>\n",
       "    </tr>\n",
       "    <tr>\n",
       "      <th>3</th>\n",
       "      <td>2</td>\n",
       "      <td>2</td>\n",
       "      <td>3</td>\n",
       "      <td>4</td>\n",
       "      <td>3</td>\n",
       "      <td>4</td>\n",
       "    </tr>\n",
       "    <tr>\n",
       "      <th>1</th>\n",
       "      <th>3</th>\n",
       "      <td>2</td>\n",
       "      <td>2</td>\n",
       "      <td>3</td>\n",
       "      <td>4</td>\n",
       "      <td>3</td>\n",
       "      <td>4</td>\n",
       "    </tr>\n",
       "    <tr>\n",
       "      <th>4</th>\n",
       "      <th>5</th>\n",
       "      <td>2</td>\n",
       "      <td>10</td>\n",
       "      <td>3</td>\n",
       "      <td>4</td>\n",
       "      <td>3</td>\n",
       "      <td>4</td>\n",
       "    </tr>\n",
       "  </tbody>\n",
       "</table>\n",
       "</div>"
      ],
      "text/plain": [
       "                 0   1  2_A  3_A  2_B  3_B\n",
       "index_A index_B                           \n",
       "2       1        2   2    3    4    3    4\n",
       "        3        2   2    3    4    3    4\n",
       "1       3        2   2    3    4    3    4\n",
       "4       5        2  10    3    4    3    4"
      ]
     },
     "execution_count": 370,
     "metadata": {},
     "output_type": "execute_result"
    }
   ],
   "source": [
    "pairing = indexing.Pairs(df)\n",
    "# pairing.full()\n",
    "pairing.block([0,1])\n",
    "# pairing.index(pairing._fullindex)"
   ]
  },
  {
   "cell_type": "code",
   "execution_count": 359,
   "metadata": {
    "collapsed": false,
    "scrolled": false
   },
   "outputs": [
    {
     "name": "stdout",
     "output_type": "stream",
     "text": [
      "                 0_A  1_A  2_A  3_A  0_B  1_B  2_B  3_B\n",
      "index_A index_B                                        \n",
      "2       1          2    2    3    4    2    2    3    4\n",
      "                 0_A  1_A  2_A  3_A  0_B  1_B  2_B  3_B\n",
      "index_A index_B                                        \n",
      "2       3          2    2    3    4    2    2    3    4\n",
      "        4          2    2    3    4    2   10    3    4\n",
      "1       3          2    2    3    4    2    2    3    4\n",
      "        4          2    2    3    4    2   10    3    4\n",
      "                 0_A  1_A  2_A  3_A  0_B  1_B  2_B  3_B\n",
      "index_A index_B                                        \n",
      "2       5          2    2    3    4    2   10    3    4\n",
      "1       5          2    2    3    4    2   10    3    4\n",
      "                 0_A  1_A  2_A  3_A  0_B  1_B  2_B  3_B\n",
      "index_A index_B                                        \n",
      "3       4          2    2    3    4    2   10    3    4\n",
      "                 0_A  1_A  2_A  3_A  0_B  1_B  2_B  3_B\n",
      "index_A index_B                                        \n",
      "3       5          2    2    3    4    2   10    3    4\n",
      "4       5          2   10    3    4    2   10    3    4\n"
     ]
    }
   ],
   "source": [
    "# for pairs in pairing.iterindex(pairing._blockindex, 2,2):\n",
    "for pairs in pairing.iterindex(pairing._fullindex, 2,2):\n",
    "    \n",
    "    if not pairs.empty:\n",
    "        print pairs"
   ]
  },
  {
   "cell_type": "code",
   "execution_count": 360,
   "metadata": {
    "collapsed": false
   },
   "outputs": [
    {
     "name": "stdout",
     "output_type": "stream",
     "text": [
      "   0  1  2  3\n",
      "2  1  2  3  4\n",
      "1  2  2  3  4\n",
      "3  3  2  3  4\n",
      "4  4  2  3  4\n",
      "5  5  2  3  4\n",
      "   0   1  2  3\n",
      "2  2   2  3  4\n",
      "1  2   2  3  4\n",
      "3  2   2  3  4\n",
      "4  2  10  3  4\n",
      "5  2  10  3  4\n"
     ]
    },
    {
     "ename": "AttributeError",
     "evalue": "'Pairs' object has no attribute 'B'",
     "output_type": "error",
     "traceback": [
      "\u001b[0;31m---------------------------------------------------------------------------\u001b[0m",
      "\u001b[0;31mAttributeError\u001b[0m                            Traceback (most recent call last)",
      "\u001b[0;32m<ipython-input-360-49e47da91f51>\u001b[0m in \u001b[0;36m<module>\u001b[0;34m()\u001b[0m\n\u001b[1;32m      1\u001b[0m \u001b[0;32mprint\u001b[0m \u001b[0mdf_a\u001b[0m\u001b[0;34m\u001b[0m\u001b[0m\n\u001b[1;32m      2\u001b[0m \u001b[0;32mprint\u001b[0m \u001b[0mpairing\u001b[0m\u001b[0;34m.\u001b[0m\u001b[0mA\u001b[0m\u001b[0;34m\u001b[0m\u001b[0m\n\u001b[0;32m----> 3\u001b[0;31m \u001b[0;32mprint\u001b[0m \u001b[0mpairing\u001b[0m\u001b[0;34m.\u001b[0m\u001b[0mB\u001b[0m\u001b[0;34m\u001b[0m\u001b[0m\n\u001b[0m",
      "\u001b[0;31mAttributeError\u001b[0m: 'Pairs' object has no attribute 'B'"
     ]
    }
   ],
   "source": [
    "print df_a\n",
    "print pairing.A\n",
    "print pairing.B\n"
   ]
  },
  {
   "cell_type": "code",
   "execution_count": null,
   "metadata": {
    "collapsed": true
   },
   "outputs": [],
   "source": []
  },
  {
   "cell_type": "code",
   "execution_count": null,
   "metadata": {
    "collapsed": true
   },
   "outputs": [],
   "source": []
  },
  {
   "cell_type": "code",
   "execution_count": null,
   "metadata": {
    "collapsed": true
   },
   "outputs": [],
   "source": []
  }
 ],
 "metadata": {
  "kernelspec": {
   "display_name": "Python 2",
   "language": "python",
   "name": "python2"
  },
  "language_info": {
   "codemirror_mode": {
    "name": "ipython",
    "version": 2
   },
   "file_extension": ".py",
   "mimetype": "text/x-python",
   "name": "python",
   "nbconvert_exporter": "python",
   "pygments_lexer": "ipython2",
   "version": "2.7.10"
  }
 },
 "nbformat": 4,
 "nbformat_minor": 0
}
