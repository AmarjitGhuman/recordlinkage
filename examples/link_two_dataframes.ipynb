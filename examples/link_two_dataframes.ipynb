{
 "cells": [
  {
   "cell_type": "markdown",
   "metadata": {},
   "source": [
    "# Linking two census datasets"
   ]
  },
  {
   "cell_type": "markdown",
   "metadata": {},
   "source": [
    "This example shows how two datasets with name and contact details information about individuals can be linked. We will try to link the data based on the first name, last name, sex, birthdate, city, street, job and email. The data used in this example is fictitious. \n",
    "\n",
    "Firstly, start with importing the ``recordlinkage`` module. The submodule ``recordlinkage.datasets`` contains several datasets which can be used for testing. For this example, we use the datasets ``censusA`` and ``censusB`` that can be loaded with the functions ``load_censusA`` en ``load_censusB`` respectively."
   ]
  },
  {
   "cell_type": "code",
   "execution_count": null,
   "metadata": {
    "collapsed": false
   },
   "outputs": [],
   "source": [
    "import recordlinkage\n",
    "from recordlinkage.datasets import load_censusA, load_censusB"
   ]
  },
  {
   "cell_type": "markdown",
   "metadata": {},
   "source": [
    "The datasets ``censusA`` and ``censusB`` are loaded with the following code. The datasets are ``pandas.DataFrame`` objects. This makes it easy to manipulate the data if desired. For details about data manipulation with ``pandas``, see their comprehensive documentation http://pandas.pydata.org/. "
   ]
  },
  {
   "cell_type": "code",
   "execution_count": null,
   "metadata": {
    "collapsed": false
   },
   "outputs": [],
   "source": [
    "dfA = load_censusA()\n",
    "dfB = load_censusB()"
   ]
  },
  {
   "cell_type": "markdown",
   "metadata": {},
   "source": [
    "## Making record pairs"
   ]
  },
  {
   "cell_type": "markdown",
   "metadata": {},
   "source": [
    "It is very intuitive to start with comparing each record of DataFrame ``dfA`` with all records of DataFrame ``dfB``. In fact, we want to make record pairs. Each record pair should contain one record of ``dfA`` and one record of ``dfB``. This process of making record pairs is also called 'indexing'. With the ``recordlinkage`` module, indexing is easy. Firstly, load the ``Pairs`` class. This class takes two dataframes as input arguments. In case of deduplication of a single dataframe, one dataframe is sufficient as input argument. "
   ]
  },
  {
   "cell_type": "code",
   "execution_count": null,
   "metadata": {
    "collapsed": true
   },
   "outputs": [],
   "source": [
    "pcl = recordlinkage.Pairs(dfA, dfB)"
   ]
  },
  {
   "cell_type": "markdown",
   "metadata": {},
   "source": [
    "With the method ``Pairs.full``, all possible (and unique) record pairs are made. The method returns a ``pandas.MultiIndex``. "
   ]
  },
  {
   "cell_type": "code",
   "execution_count": null,
   "metadata": {
    "collapsed": false
   },
   "outputs": [],
   "source": [
    "pairs = pcl.full()"
   ]
  },
  {
   "cell_type": "markdown",
   "metadata": {},
   "source": [
    "The number of pairs is equal to the number of records in ``dfA`` times the number of records in ``dfB``."
   ]
  },
  {
   "cell_type": "code",
   "execution_count": null,
   "metadata": {
    "collapsed": false
   },
   "outputs": [],
   "source": [
    "print (len(dfA)*len(dfB))\n",
    "print (len(pairs))"
   ]
  },
  {
   "cell_type": "markdown",
   "metadata": {},
   "source": [
    "Many of the record pairs do not belong to the same person. In case of one-to-one matching, the largest number of matches should be the number of records in the smallest dataframe. In case of full indexing, ``min(len(dfA), len(N_dfB))`` is much smaller than ``len(pairs)``. The ``recordlinkage`` module has some more advanced indexing methods to reduce the number of record pairs. Obvious non-matches are left out of the index. Note that if a matching record pair is not included in the index, it can not be matched anymore."
   ]
  },
  {
   "cell_type": "markdown",
   "metadata": {},
   "source": [
    "One of the most well known indexing methods is named 'blocking'. This method includes only record pairs that are identical on one or more stored attributes of the person (or entity in general). The blocking method can be used in the ``recordlinkage`` module. "
   ]
  },
  {
   "cell_type": "code",
   "execution_count": null,
   "metadata": {
    "collapsed": false
   },
   "outputs": [],
   "source": [
    "pcl.block('first_name', 3);"
   ]
  },
  {
   "cell_type": "markdown",
   "metadata": {},
   "source": [
    "The argument 'first_name' is the blocking variable. This variable has to be the name of a column in ``dfA`` and ``dfB``. It is possible to parse a list of columns names to block on multiple variables. Blocking on multiple variables will reduce the number of record pairs even further. "
   ]
  },
  {
   "cell_type": "markdown",
   "metadata": {},
   "source": [
    "Another implemented indexing method is sortedneighbourhood indexing (``Pairs.sortedneighbourhood``). This method is very useful when there are many misspellings in the string were used for indexing. In fact, sorted neighbourhood indexing is a generalisation of blocking. See the documentation for details about sorted neighbourd indexing."
   ]
  },
  {
   "cell_type": "markdown",
   "metadata": {},
   "source": [
    "## Comparing record pairs"
   ]
  },
  {
   "cell_type": "markdown",
   "metadata": {},
   "source": [
    "Now we now have a large set of record pairs. To compare Each record pair is compared on some attributes both record have in common. "
   ]
  },
  {
   "cell_type": "code",
   "execution_count": null,
   "metadata": {
    "collapsed": false
   },
   "outputs": [],
   "source": [
    "compare_cl = recordlinkage.Compare(pairs, dfA, dfB)\n",
    "compare_cl.exact('first_name', 'first_name', name='first_name')\n",
    "compare_cl.exact('last_name', 'last_name', name='last_name')\n",
    "compare_cl.exact('sex', 'sex', name='sex')\n",
    "compare_cl.exact('birthdate', 'birthdate', name='birthdate')\n",
    "compare_cl.exact('city', 'city', name='city')\n",
    "compare_cl.exact('street_address', 'street_address', name='street_address')\n",
    "compare_cl.exact('job', 'job', name='job')\n",
    "compare_cl.exact('email', 'email', name='email');"
   ]
  },
  {
   "cell_type": "markdown",
   "metadata": {},
   "source": [
    "All comparisons are stored in a dataframe with horizontally the comparison features and vertically the record pairs. The comparison can be found in ``vectors`` attribute of the ``Compare`` class. The first 10 comparison vectors are:"
   ]
  },
  {
   "cell_type": "code",
   "execution_count": null,
   "metadata": {
    "collapsed": false
   },
   "outputs": [],
   "source": [
    "compare_cl.vectors.head(10)"
   ]
  },
  {
   "cell_type": "code",
   "execution_count": null,
   "metadata": {
    "collapsed": false
   },
   "outputs": [],
   "source": [
    "ecm_cl = recordlinkage.ExpectationMaximisationClassifier(method='ecm')\n",
    "\n",
    "ecm_cl.learn(compare_cl.vectors)"
   ]
  }
 ],
 "metadata": {
  "kernelspec": {
   "display_name": "Python 2",
   "language": "python",
   "name": "python2"
  },
  "language_info": {
   "codemirror_mode": {
    "name": "ipython",
    "version": 2
   },
   "file_extension": ".py",
   "mimetype": "text/x-python",
   "name": "python",
   "nbconvert_exporter": "python",
   "pygments_lexer": "ipython2",
   "version": "2.7.10"
  }
 },
 "nbformat": 4,
 "nbformat_minor": 0
}
