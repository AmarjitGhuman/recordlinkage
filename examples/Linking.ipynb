{
 "cells": [
  {
   "cell_type": "code",
   "execution_count": 2,
   "metadata": {
    "collapsed": false
   },
   "outputs": [],
   "source": [
    "%load_ext autoreload\n",
    "\n",
    "%autoreload 2\n",
    "\n",
    "import sys\n",
    "sys.path.insert(1, \"..\")\n",
    "\n",
    "import pandas as pd\n",
    "import numpy as np\n",
    "\n",
    "%aimport recordlinkage"
   ]
  },
  {
   "cell_type": "code",
   "execution_count": 4,
   "metadata": {
    "collapsed": false
   },
   "outputs": [
    {
     "name": "stdout",
     "output_type": "stream",
     "text": [
      "The number of record in dataset A: 5000\n",
      "The number of record in dataset B: 1000\n"
     ]
    },
    {
     "data": {
      "text/html": [
       "<div>\n",
       "<table border=\"1\" class=\"dataframe\">\n",
       "  <thead>\n",
       "    <tr style=\"text-align: right;\">\n",
       "      <th></th>\n",
       "      <th>given_name</th>\n",
       "      <th>surname</th>\n",
       "      <th>street_number</th>\n",
       "      <th>address_1</th>\n",
       "      <th>address_2</th>\n",
       "      <th>suburb</th>\n",
       "      <th>postcode</th>\n",
       "      <th>state</th>\n",
       "      <th>date_of_birth</th>\n",
       "      <th>soc_sec_id</th>\n",
       "    </tr>\n",
       "    <tr>\n",
       "      <th>rec_id</th>\n",
       "      <th></th>\n",
       "      <th></th>\n",
       "      <th></th>\n",
       "      <th></th>\n",
       "      <th></th>\n",
       "      <th></th>\n",
       "      <th></th>\n",
       "      <th></th>\n",
       "      <th></th>\n",
       "      <th></th>\n",
       "    </tr>\n",
       "  </thead>\n",
       "  <tbody>\n",
       "    <tr>\n",
       "      <th>rec-223-org</th>\n",
       "      <td>NaN</td>\n",
       "      <td>waller</td>\n",
       "      <td>6</td>\n",
       "      <td>tullaroop street</td>\n",
       "      <td>willaroo</td>\n",
       "      <td>st james</td>\n",
       "      <td>4011</td>\n",
       "      <td>wa</td>\n",
       "      <td>19081209</td>\n",
       "      <td>6988048</td>\n",
       "    </tr>\n",
       "    <tr>\n",
       "      <th>rec-122-org</th>\n",
       "      <td>lachlan</td>\n",
       "      <td>berry</td>\n",
       "      <td>69</td>\n",
       "      <td>giblin street</td>\n",
       "      <td>killarney</td>\n",
       "      <td>bittern</td>\n",
       "      <td>4814</td>\n",
       "      <td>qld</td>\n",
       "      <td>19990219</td>\n",
       "      <td>7364009</td>\n",
       "    </tr>\n",
       "    <tr>\n",
       "      <th>rec-373-org</th>\n",
       "      <td>deakin</td>\n",
       "      <td>sondergeld</td>\n",
       "      <td>48</td>\n",
       "      <td>goldfinch circuit</td>\n",
       "      <td>kooltuo</td>\n",
       "      <td>canterbury</td>\n",
       "      <td>2776</td>\n",
       "      <td>vic</td>\n",
       "      <td>19600210</td>\n",
       "      <td>2635962</td>\n",
       "    </tr>\n",
       "    <tr>\n",
       "      <th>rec-10-dup-0</th>\n",
       "      <td>kayla</td>\n",
       "      <td>harrington</td>\n",
       "      <td>NaN</td>\n",
       "      <td>maltby circuit</td>\n",
       "      <td>coaling</td>\n",
       "      <td>coolaroo</td>\n",
       "      <td>3465</td>\n",
       "      <td>nsw</td>\n",
       "      <td>19150612</td>\n",
       "      <td>9004242</td>\n",
       "    </tr>\n",
       "    <tr>\n",
       "      <th>rec-227-org</th>\n",
       "      <td>luke</td>\n",
       "      <td>purdon</td>\n",
       "      <td>23</td>\n",
       "      <td>ramsay place</td>\n",
       "      <td>mirani</td>\n",
       "      <td>garbutt</td>\n",
       "      <td>2260</td>\n",
       "      <td>vic</td>\n",
       "      <td>19831024</td>\n",
       "      <td>8099933</td>\n",
       "    </tr>\n",
       "  </tbody>\n",
       "</table>\n",
       "</div>"
      ],
      "text/plain": [
       "              given_name      surname   street_number           address_1  \\\n",
       "rec_id                                                                      \n",
       "rec-223-org          NaN       waller               6    tullaroop street   \n",
       "rec-122-org      lachlan        berry              69       giblin street   \n",
       "rec-373-org       deakin   sondergeld              48   goldfinch circuit   \n",
       "rec-10-dup-0       kayla   harrington             NaN      maltby circuit   \n",
       "rec-227-org         luke       purdon              23        ramsay place   \n",
       "\n",
       "               address_2       suburb   postcode  state   date_of_birth  \\\n",
       "rec_id                                                                    \n",
       "rec-223-org     willaroo     st james       4011     wa        19081209   \n",
       "rec-122-org    killarney      bittern       4814    qld        19990219   \n",
       "rec-373-org      kooltuo   canterbury       2776    vic        19600210   \n",
       "rec-10-dup-0     coaling     coolaroo       3465    nsw        19150612   \n",
       "rec-227-org       mirani      garbutt       2260    vic        19831024   \n",
       "\n",
       "               soc_sec_id  \n",
       "rec_id                     \n",
       "rec-223-org       6988048  \n",
       "rec-122-org       7364009  \n",
       "rec-373-org       2635962  \n",
       "rec-10-dup-0      9004242  \n",
       "rec-227-org       8099933  "
      ]
     },
     "execution_count": 4,
     "metadata": {},
     "output_type": "execute_result"
    }
   ],
   "source": [
    "dfA = pd.read_csv('../sampledata/dataset2.csv', index_col='rec_id', na_values=' ')\n",
    "dfB = pd.read_csv('../sampledata/dataset1.csv', index_col='rec_id', na_values=' ')\n",
    "\n",
    "print \"The number of record in dataset A: %s\" % len(dfA)\n",
    "print \"The number of record in dataset B: %s\" % len(dfB)\n",
    "\n",
    "dfB.head()"
   ]
  },
  {
   "cell_type": "code",
   "execution_count": null,
   "metadata": {
    "collapsed": false
   },
   "outputs": [],
   "source": [
    "std_dfA = recordlinkage.StandardDataFrame(dfA)"
   ]
  },
  {
   "cell_type": "markdown",
   "metadata": {},
   "source": [
    "Create an object Pairs to create candidate record pairs. The class 'Pairs' can take 1 or 2 arguments, both dataframes. If one dataframe is given, the record pairs are for deduplication. When two dataframes are given, the data is linked between two files. "
   ]
  },
  {
   "cell_type": "code",
   "execution_count": null,
   "metadata": {
    "collapsed": false
   },
   "outputs": [],
   "source": [
    "pairing = recordlinkage.Pairs(dfA, dfB, suffixes=('_dfA', '_dfB'))"
   ]
  },
  {
   "cell_type": "markdown",
   "metadata": {},
   "source": [
    "The simplest method of comparing record pairs is to compare all possible records pairs. The method 'full' is used for this. The function takes no arguments. "
   ]
  },
  {
   "cell_type": "code",
   "execution_count": null,
   "metadata": {
    "collapsed": false,
    "scrolled": false
   },
   "outputs": [],
   "source": [
    "pairs_full = pairing.full()\n",
    "print \"The reduction ratio is %s\" % pairing.reduction_ratio()\n",
    "pairs_full.head(10)"
   ]
  },
  {
   "cell_type": "markdown",
   "metadata": {},
   "source": [
    "Make pairs based on a blocking key. This blocking key can be a list of blocking keys. In this case 'Surname' was used. "
   ]
  },
  {
   "cell_type": "code",
   "execution_count": null,
   "metadata": {
    "collapsed": false
   },
   "outputs": [],
   "source": [
    "pairs_block = pairing.block(' surname')\n",
    "print \"The reduction ratio is %s\" % pairing.reduction_ratio()\n",
    "\n",
    "pairs_block.head(10)"
   ]
  },
  {
   "cell_type": "code",
   "execution_count": null,
   "metadata": {
    "collapsed": false
   },
   "outputs": [],
   "source": [
    "pairs_sorted = pairing.sortedneighbourhood(' surname', window=3)\n",
    "print \"The reduction ratio is %s\" % pairing.reduction_ratio()\n",
    "\n",
    "pairs_sorted.head(10)"
   ]
  },
  {
   "cell_type": "code",
   "execution_count": null,
   "metadata": {
    "collapsed": false
   },
   "outputs": [],
   "source": [
    "pairs_sorted_with_block = pairing.sortedneighbourhood(' given_name', window=3, blocking_on=[' surname'])\n",
    "pairs_sorted_with_block.head(10)\n"
   ]
  },
  {
   "cell_type": "code",
   "execution_count": null,
   "metadata": {
    "collapsed": false,
    "scrolled": true
   },
   "outputs": [],
   "source": [
    "for pairs in pairing.iterindex(recordlinkage.indexing._fullindex, 1000,1000):\n",
    "    \n",
    "    if not pairs.empty:\n",
    "        print 'block'"
   ]
  },
  {
   "cell_type": "markdown",
   "metadata": {},
   "source": [
    "This is the same as the following code."
   ]
  },
  {
   "cell_type": "code",
   "execution_count": null,
   "metadata": {
    "collapsed": false
   },
   "outputs": [],
   "source": [
    "for pairs in pairing.iterfull(1000,1000):\n",
    "    \n",
    "    pass"
   ]
  },
  {
   "cell_type": "markdown",
   "metadata": {},
   "source": [
    "Also blocking and sorted neighbourhood indexing can be used with iterations. The number of records pairs is not always equal for each iteration. "
   ]
  },
  {
   "cell_type": "code",
   "execution_count": null,
   "metadata": {
    "collapsed": false
   },
   "outputs": [],
   "source": [
    "for pairs in pairing.iterblock(1000,1000, ' surname'):\n",
    "\n",
    "    pass"
   ]
  },
  {
   "cell_type": "code",
   "execution_count": null,
   "metadata": {
    "collapsed": false
   },
   "outputs": [],
   "source": [
    "comp = recordlinkage.Compare(pairs_block)\n",
    "\n",
    "# print pairs_block.columns\n",
    "comp.compare(recordlinkage.comparing.exact, \n",
    "             pairs_block[[' given_name_dfA',' address_2_dfA']], \n",
    "             pairs_block[[' given_name_dfB', ' address_2_dfB']], \n",
    "             missing_value=9, \n",
    "             output='any',\n",
    "             name='given_name')\n",
    "comp.compare(recordlinkage.comparing.exact, \n",
    "             pairs_block[' given_name_dfA'], \n",
    "             pairs_block[' address_2_dfB'], \n",
    "             missing_value=9, \n",
    "             output='any',\n",
    "             name='sur_name')\n",
    "# comp.compare(comparing.exact, pairs_block[' address_2_dfA'], pairs_block[' address_2_dfB'], missing_value=np.nan , name='address')\n",
    "\n",
    "# pairs_block.loc[pairs_block.ix[[0,1,2,3]].index,' given_name_dfA'] = 3\n",
    "# print sum(pairs_block[' given_name_dfB'].isnull())\n",
    "\n",
    "comp.comparison_vectors"
   ]
  },
  {
   "cell_type": "code",
   "execution_count": null,
   "metadata": {
    "collapsed": false,
    "scrolled": false
   },
   "outputs": [],
   "source": [
    "fs = recordlinkage.FellegiSunterClassifier()\n",
    "\n",
    "fs.estimate(\n",
    "    comparison_vectors=comp.comparison_vectors, \n",
    "    start_m={'given_name':{0:0.1, 1:0.7, 9:0.2},'sur_name':{0:0.1, 9:0.9}},\n",
    "    start_u={'given_name':{0:0.7, 1:0.1, 9: 0.2},'sur_name':{0:0.9, 9:0.1}},\n",
    "    start_p=0.1,\n",
    "    max_iter=10\n",
    ")\n",
    "\n",
    "print fs.est.number_of_pairs\n",
    "print fs.est.p\n",
    "fs.est.summary()\n",
    "\n",
    "len(fs.auto_classify(comp.comparison_vectors))\n",
    "\n",
    "\n",
    "\n"
   ]
  },
  {
   "cell_type": "code",
   "execution_count": null,
   "metadata": {
    "collapsed": false
   },
   "outputs": [],
   "source": [
    "x = pd.Series([1,2,3,4])\n",
    "y = pd.Series([1,2,3,4])\n",
    "\n",
    "x.name= 'test'\n",
    "y.name = 'red'\n",
    "print x \n",
    "print y\n",
    "\n",
    "pd.concat([x,y], axis=1)"
   ]
  },
  {
   "cell_type": "code",
   "execution_count": null,
   "metadata": {
    "collapsed": false
   },
   "outputs": [],
   "source": [
    "%matplotlib inline\n",
    "import matplotlib.pyplot as plt\n",
    "\n",
    "import networkx as nx\n",
    "\n",
    "B = nx.Graph()\n",
    "B.add_nodes_from([1,2], bipartite=0) # Add the node attribute \"bipartite\"\n",
    "B.add_nodes_from([3], bipartite=1)\n",
    "B.add_edges_from([(1,1), (1,2)])\n",
    "\n",
    "nx.draw(B)"
   ]
  },
  {
   "cell_type": "code",
   "execution_count": 71,
   "metadata": {
    "collapsed": false,
    "scrolled": false
   },
   "outputs": [],
   "source": [
    "reload(recordlinkage)\n",
    "import itertools\n",
    "\n",
    "test_data = recordlinkage.StandardSeries(dfA[' given_name'].copy())"
   ]
  },
  {
   "cell_type": "code",
   "execution_count": 72,
   "metadata": {
    "collapsed": false,
    "scrolled": false
   },
   "outputs": [
    {
     "data": {
      "text/plain": [
       "rec_id\n",
       "rec-2778-org             sarah\n",
       "rec-712-dup-0            jacob\n",
       "rec-1321-org           brinley\n",
       "rec-3004-org           aleisha\n",
       "rec-1384-org             ethan\n",
       "rec-3981-org            alicia\n",
       "rec-916-org           benjamin\n",
       "rec-1684-org          petreece\n",
       "rec-63-dup-0            olivia\n",
       "rec-3808-org               NaN\n",
       "rec-112-org             joshua\n",
       "rec-3297-org           rachael\n",
       "rec-1315-org            joseph\n",
       "rec-1050-org             sarah\n",
       "rec-2116-org           sidonie\n",
       "rec-3232-org            andrew\n",
       "rec-1900-dup-1           kiara\n",
       "rec-2460-dup-2        nicholas\n",
       "rec-3123-org          isabella\n",
       "rec-2166-org         alexandra\n",
       "rec-1155-org           matthew\n",
       "rec-1485-org           michael\n",
       "rec-2852-org           georgia\n",
       "rec-707-org                tia\n",
       "rec-3499-org            brooke\n",
       "rec-2153-org              liam\n",
       "rec-1665-dup-2          jamesr\n",
       "rec-35-dup-1             darcy\n",
       "rec-78-org                kody\n",
       "rec-3116-org             james\n",
       "                      ...     \n",
       "rec-3650-org            samuel\n",
       "rec-1323-org              jack\n",
       "rec-1278-org           michael\n",
       "rec-540-dup-0          anthony\n",
       "rec-724-org            kaitlin\n",
       "rec-3120-org           monique\n",
       "rec-881-org           brooklyn\n",
       "rec-2303-org             polly\n",
       "rec-1772-org             amber\n",
       "rec-3587-org           madelyn\n",
       "rec-3005-org       christopher\n",
       "rec-2636-org           annabel\n",
       "rec-235-org             thomas\n",
       "rec-2822-dup-0           molly\n",
       "rec-322-org             brooke\n",
       "rec-1972-org             carly\n",
       "rec-3433-org           william\n",
       "rec-2889-org             naomi\n",
       "rec-1313-org           zachary\n",
       "rec-2206-org         john-paul\n",
       "rec-2433-org               mia\n",
       "rec-1609-org           madison\n",
       "rec-3812-org           georgia\n",
       "rec-303-org            clodagh\n",
       "rec-2284-org               sam\n",
       "rec-1487-org            thomas\n",
       "rec-1856-org             james\n",
       "rec-3307-org             paige\n",
       "rec-227-org            antonio\n",
       "rec-1143-org             harry\n",
       "Name:  given_name, dtype: object"
      ]
     },
     "execution_count": 72,
     "metadata": {},
     "output_type": "execute_result"
    }
   ],
   "source": [
    "test_data.group_similar_values()"
   ]
  },
  {
   "cell_type": "code",
   "execution_count": 59,
   "metadata": {
    "collapsed": false
   },
   "outputs": [
    {
     "name": "stdout",
     "output_type": "stream",
     "text": [
      "The slowest run took 4.19 times longer than the fastest. This could mean that an intermediate result is being cached \n",
      "1000 loops, best of 3: 255 µs per loop\n"
     ]
    }
   ],
   "source": [
    "%timeit list(itertools.combinations(test_data[test_data.notnull()].astype(unicode).unique(), 2))"
   ]
  }
 ],
 "metadata": {
  "kernelspec": {
   "display_name": "Python 2",
   "language": "python",
   "name": "python2"
  },
  "language_info": {
   "codemirror_mode": {
    "name": "ipython",
    "version": 2
   },
   "file_extension": ".py",
   "mimetype": "text/x-python",
   "name": "python",
   "nbconvert_exporter": "python",
   "pygments_lexer": "ipython2",
   "version": "2.7.10"
  }
 },
 "nbformat": 4,
 "nbformat_minor": 0
}
